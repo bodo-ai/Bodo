{
 "cells": [
  {
   "cell_type": "code",
   "execution_count": 1,
   "id": "8c85debb-ae8a-4f70-85d1-30c1049759c6",
   "metadata": {
    "execution": {
     "iopub.execute_input": "2023-01-17T16:43:03.048866Z",
     "iopub.status.busy": "2023-01-17T16:43:03.048577Z",
     "iopub.status.idle": "2023-01-17T16:43:03.598125Z",
     "shell.execute_reply": "2023-01-17T16:43:03.597516Z",
     "shell.execute_reply.started": "2023-01-17T16:43:03.048844Z"
    },
    "lang": "Python",
    "tags": []
   },
   "outputs": [],
   "source": [
    "# Import all functions directly into the namespace for convenience\n",
    "from snowflake_utils import *"
   ]
  },
  {
   "cell_type": "code",
   "execution_count": 2,
   "id": "5c8f3b54-5882-4fec-9349-a727cadd7e18",
   "metadata": {
    "execution": {
     "iopub.execute_input": "2023-01-17T16:43:04.341428Z",
     "iopub.status.busy": "2023-01-17T16:43:04.341039Z",
     "iopub.status.idle": "2023-01-17T16:43:05.046987Z",
     "shell.execute_reply": "2023-01-17T16:43:05.046282Z",
     "shell.execute_reply.started": "2023-01-17T16:43:04.341393Z"
    },
    "lang": "Python",
    "tags": []
   },
   "outputs": [
    {
     "name": "stderr",
     "output_type": "stream",
     "text": [
      "/opt/anaconda3/envs/bodo_dev_310/lib/python3.10/site-packages/cryptography/hazmat/backends/openssl/x509.py:14: CryptographyDeprecationWarning: This version of cryptography contains a temporary pyOpenSSL fallback path. Upgrade pyOpenSSL now.\n",
      "  warnings.warn(\n"
     ]
    }
   ],
   "source": [
    "# Create connection object.\n",
    "con = get_snowflake_connection('creds.json', database=\"SNOWFLAKE_SAMPLE_DATA\", warehouse=\"DEMO_WH\")"
   ]
  },
  {
   "cell_type": "code",
   "execution_count": 3,
   "id": "d9687f5d-77b9-4c58-8147-2b61c6178b45",
   "metadata": {
    "execution": {
     "iopub.execute_input": "2023-01-17T16:43:05.048268Z",
     "iopub.status.busy": "2023-01-17T16:43:05.047936Z",
     "iopub.status.idle": "2023-01-17T16:43:05.217509Z",
     "shell.execute_reply": "2023-01-17T16:43:05.216871Z",
     "shell.execute_reply.started": "2023-01-17T16:43:05.048250Z"
    },
    "lang": "Python",
    "tags": []
   },
   "outputs": [
    {
     "data": {
      "text/plain": [
       "[(30189,)]"
      ]
     },
     "execution_count": 3,
     "metadata": {},
     "output_type": "execute_result"
    }
   ],
   "source": [
    "# Running arbitrary query, e.g. to check how much data would we end up with after applying a filter\n",
    "res = con.cursor().execute(f\"select count(*) from SNOWFLAKE_SAMPLE_DATA.TPCH_SF1.CUSTOMER where C_MKTSEGMENT = 'HOUSEHOLD'\")\n",
    "res.fetchall()"
   ]
  },
  {
   "cell_type": "code",
   "execution_count": 4,
   "id": "bb7bd5b8",
   "metadata": {},
   "outputs": [],
   "source": [
    "# Read the user query from the file:\n",
    "with open('tpch_q1.sql', \"r\") as f:\n",
    "    query = f.read()"
   ]
  },
  {
   "cell_type": "code",
   "execution_count": 5,
   "id": "4d74ed7b-0aea-4794-8332-5d54813566c5",
   "metadata": {
    "execution": {
     "iopub.execute_input": "2023-01-17T18:04:47.014033Z",
     "iopub.status.busy": "2023-01-17T18:04:47.013746Z",
     "iopub.status.idle": "2023-01-17T18:07:19.413823Z",
     "shell.execute_reply": "2023-01-17T18:07:19.413262Z",
     "shell.execute_reply.started": "2023-01-17T18:04:47.014013Z"
    },
    "lang": "Python",
    "tags": []
   },
   "outputs": [
    {
     "data": {
      "text/plain": [
       "[('Table TPCH_Q1_SF_OUT successfully created.',)]"
      ]
     },
     "execution_count": 5,
     "metadata": {},
     "output_type": "execute_result"
    }
   ],
   "source": [
    "# Generate the output of the working query in Snowflake and write it to a table\n",
    "execute_query_and_save_to_snowflake_table(con, query, \"TEST_DB.SNOWFLAKE_WRITE_TEST.TPCH_Q1_SF_OUT\")"
   ]
  },
  {
   "cell_type": "code",
   "execution_count": 6,
   "id": "573f2e0d",
   "metadata": {},
   "outputs": [],
   "source": [
    "# Run the query in Bodo using the BodoSQLWrapper and write the output to a Snowflake table\n",
    "# e.g. On Platform, run this command the terminal:\n",
    "# px python -u BodoSQLWrapper.py -c creds.json -f tpch_q1.sql -w DEMO_WH -d SNOWFLAKE_SAMPLE_DATA --sf_out_table_loc TEST_DB.SNOWFLAKE_WRITE_TEST.TPCH_Q1_BODO_OUT"
   ]
  },
  {
   "cell_type": "code",
   "execution_count": 7,
   "id": "22d999ec-3d60-4fc1-9fff-d011aa39079c",
   "metadata": {
    "lang": "Parallel-Python"
   },
   "outputs": [
    {
     "name": "stderr",
     "output_type": "stream",
     "text": [
      "/opt/anaconda3/envs/bodo_dev_310/lib/python3.10/site-packages/cryptography/hazmat/backends/openssl/x509.py:14: CryptographyDeprecationWarning: This version of cryptography contains a temporary pyOpenSSL fallback path. Upgrade pyOpenSSL now.\n",
      "  warnings.warn(\n"
     ]
    },
    {
     "data": {
      "text/html": [
       "<div>\n",
       "<style scoped>\n",
       "    .dataframe tbody tr th:only-of-type {\n",
       "        vertical-align: middle;\n",
       "    }\n",
       "\n",
       "    .dataframe tbody tr th {\n",
       "        vertical-align: top;\n",
       "    }\n",
       "\n",
       "    .dataframe thead th {\n",
       "        text-align: right;\n",
       "    }\n",
       "</style>\n",
       "<table border=\"1\" class=\"dataframe\">\n",
       "  <thead>\n",
       "    <tr style=\"text-align: right;\">\n",
       "      <th></th>\n",
       "      <th>l_returnflag</th>\n",
       "      <th>l_linestatus</th>\n",
       "      <th>sum_qty</th>\n",
       "      <th>sum_base_price</th>\n",
       "      <th>sum_disc_price</th>\n",
       "      <th>sum_charge</th>\n",
       "      <th>avg_qty</th>\n",
       "      <th>avg_price</th>\n",
       "      <th>avg_disc</th>\n",
       "      <th>count_order</th>\n",
       "    </tr>\n",
       "  </thead>\n",
       "  <tbody>\n",
       "    <tr>\n",
       "      <th>0</th>\n",
       "      <td>N</td>\n",
       "      <td>F</td>\n",
       "      <td>991417.0</td>\n",
       "      <td>1.487505e+09</td>\n",
       "      <td>1.413082e+09</td>\n",
       "      <td>1.469649e+09</td>\n",
       "      <td>25.516472</td>\n",
       "      <td>38284.467761</td>\n",
       "      <td>0.050093</td>\n",
       "      <td>38854</td>\n",
       "    </tr>\n",
       "    <tr>\n",
       "      <th>1</th>\n",
       "      <td>N</td>\n",
       "      <td>O</td>\n",
       "      <td>76633518.0</td>\n",
       "      <td>1.149352e+11</td>\n",
       "      <td>1.091896e+11</td>\n",
       "      <td>1.135610e+11</td>\n",
       "      <td>25.502020</td>\n",
       "      <td>38248.015609</td>\n",
       "      <td>0.050000</td>\n",
       "      <td>3004998</td>\n",
       "    </tr>\n",
       "    <tr>\n",
       "      <th>2</th>\n",
       "      <td>R</td>\n",
       "      <td>F</td>\n",
       "      <td>37719753.0</td>\n",
       "      <td>5.656804e+10</td>\n",
       "      <td>5.374129e+10</td>\n",
       "      <td>5.588962e+10</td>\n",
       "      <td>25.505794</td>\n",
       "      <td>38250.854626</td>\n",
       "      <td>0.050009</td>\n",
       "      <td>1478870</td>\n",
       "    </tr>\n",
       "    <tr>\n",
       "      <th>3</th>\n",
       "      <td>A</td>\n",
       "      <td>F</td>\n",
       "      <td>37734107.0</td>\n",
       "      <td>5.658655e+10</td>\n",
       "      <td>5.375826e+10</td>\n",
       "      <td>5.590907e+10</td>\n",
       "      <td>25.522006</td>\n",
       "      <td>38273.129735</td>\n",
       "      <td>0.049985</td>\n",
       "      <td>1478493</td>\n",
       "    </tr>\n",
       "  </tbody>\n",
       "</table>\n",
       "</div>"
      ],
      "text/plain": [
       "  l_returnflag l_linestatus     sum_qty  sum_base_price  sum_disc_price  \\\n",
       "0            N            F    991417.0    1.487505e+09    1.413082e+09   \n",
       "1            N            O  76633518.0    1.149352e+11    1.091896e+11   \n",
       "2            R            F  37719753.0    5.656804e+10    5.374129e+10   \n",
       "3            A            F  37734107.0    5.658655e+10    5.375826e+10   \n",
       "\n",
       "     sum_charge    avg_qty     avg_price  avg_disc  count_order  \n",
       "0  1.469649e+09  25.516472  38284.467761  0.050093        38854  \n",
       "1  1.135610e+11  25.502020  38248.015609  0.050000      3004998  \n",
       "2  5.588962e+10  25.505794  38250.854626  0.050009      1478870  \n",
       "3  5.590907e+10  25.522006  38273.129735  0.049985      1478493  "
      ]
     },
     "execution_count": 7,
     "metadata": {},
     "output_type": "execute_result"
    }
   ],
   "source": [
    "# Compare Snowflake output with Bodo output (no output means it matched)\n",
    "# In this case, there are minor differences due to the float columns.\n",
    "compare_bodo_and_snowflake_outputs(con, \"TEST_DB.SNOWFLAKE_WRITE_TEST.TPCH_Q1_BODO_OUT\", \"TEST_DB.SNOWFLAKE_WRITE_TEST.TPCH_Q1_SF_OUT\")"
   ]
  },
  {
   "cell_type": "code",
   "execution_count": null,
   "id": "af089337",
   "metadata": {},
   "outputs": [],
   "source": []
  }
 ],
 "metadata": {
  "kernelspec": {
   "display_name": "bodo_dev_310",
   "language": "python",
   "name": "python3"
  },
  "language_info": {
   "codemirror_mode": {
    "name": "ipython",
    "version": 3
   },
   "file_extension": ".py",
   "mimetype": "text/x-python",
   "name": "python",
   "nbconvert_exporter": "python",
   "pygments_lexer": "ipython3",
   "version": "3.10.6 | packaged by conda-forge | (main, Aug 22 2022, 20:43:44) [Clang 13.0.1 ]"
  },
  "vscode": {
   "interpreter": {
    "hash": "d7c143dfbd3661b60249abb6f7c7b79379c670c90851b91e5e93ba4f03e17af1"
   }
  }
 },
 "nbformat": 4,
 "nbformat_minor": 5
}
