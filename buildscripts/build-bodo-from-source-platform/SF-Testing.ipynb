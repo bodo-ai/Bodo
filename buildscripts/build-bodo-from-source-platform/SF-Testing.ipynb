{
 "cells": [
  {
   "cell_type": "markdown",
   "id": "e2df6c7c-1158-44b5-874e-66bc1a53fb84",
   "metadata": {
    "execution": {
     "iopub.execute_input": "2023-04-27T19:04:02.734032Z",
     "iopub.status.busy": "2023-04-27T19:04:02.733727Z",
     "iopub.status.idle": "2023-04-27T19:04:07.742421Z",
     "shell.execute_reply": "2023-04-27T19:04:07.741928Z",
     "shell.execute_reply.started": "2023-04-27T19:04:02.734014Z"
    },
    "tags": []
   },
   "source": [
    "# Initialize the Connector\n",
    "\n",
    "All testing will require the Snowflake connector. We provide Snowflake the credentials and information to query here.\n",
    "Note you will need `snowflake_utils.py` and a `creds.json` file with the relevant Snowflake credentials."
   ]
  },
  {
   "cell_type": "code",
   "execution_count": null,
   "id": "120c4ded-c35c-486b-8e63-92bc205ed8c9",
   "metadata": {},
   "outputs": [],
   "source": [
    "\n",
    "from snowflake_utils import *\n",
    "\n",
    "import bodo\n",
    "\n",
    "if bodo.get_rank() == 0:\n",
    "    conn = get_snowflake_connection('creds.json', database=\"E3_PROD\", warehouse=\"BODOW01\")"
   ]
  },
  {
   "cell_type": "markdown",
   "id": "e8585588-de37-4111-8db4-663667fb5ec7",
   "metadata": {},
   "source": [
    "# Testing Setup\n",
    "\n",
    "In this script we assume that you have two files: `perf_query.sql` and `correctness_query.sql`.\n",
    "\n",
    "`perf_query.sql` is the original query, but the destination has been replace with a Bodo specific target\n",
    "table as well as any other changes needed to compile with Bodo syntax constraints.\n",
    "\n",
    "`correctness_query.sql` is similar to `perf_query.sql` but it should contain additional filters so that it\n",
    "can run on 1 small node and just verify correctness. You should determine these filters by gathering data\n",
    "about relevant tables that are used, often looking at the join conditions."
   ]
  },
  {
   "cell_type": "markdown",
   "id": "38e5c332-6e6f-4db2-8555-03e47a86b971",
   "metadata": {},
   "source": [
    "# Table Setup\n",
    "\n",
    "For testing you will need to create and drop tables for correctness and/or performance. If you are testing a query\n",
    "with `Insert Into` you will need to create a table that matches the original target. We recommend using\n",
    "`create table like` so you get the exact table metadata, but that will not copy data. To instead copy data you can\n",
    "use `clone table`, but you may need to manually copy table clustering. When you are finish testing correctness\n",
    "you should drop the tables."
   ]
  },
  {
   "cell_type": "code",
   "execution_count": null,
   "id": "279f4b82-0f5a-49f9-8569-8dc7681cab7f",
   "metadata": {},
   "outputs": [],
   "source": [
    "# Create tables\n",
    "if bodo.get_rank() == 0:\n",
    "    # Correctness tables\n",
    "    conn.cursor().execute(\"CREATE TABLE BODO.q27_correctness_output_snowflake like ...\")\n",
    "    conn.cursor().execute(\"CREATE TABLE BODO.q27_correctness_output_bodo like ...\")\n",
    "    # Performance tables\n",
    "    conn.cursor().execute(\"CREATE TABLE BODO.q27_output_snowflake like ...\")\n",
    "    conn.cursor().execute(\"CREATE TABLE BODO.q27_output_bodo like ...\")"
   ]
  },
  {
   "cell_type": "code",
   "execution_count": null,
   "id": "243f4e23-bd37-4759-9636-2d71d209e981",
   "metadata": {},
   "outputs": [],
   "source": [
    "# Drop tables\n",
    "if bodo.get_rank() == 0:\n",
    "    # Correctness tables\n",
    "    conn.cursor().execute(\"DROP TABLE BODO.q27_correctness_output_snowflake\")\n",
    "    conn.cursor().execute(\"DROP TABLE BODO.q27_correctness_output_bodo\")\n",
    "    # Performance tables\n",
    "    conn.cursor().execute(\"DROP TABLE BODO.q27_output_snowflake\")\n",
    "    conn.cursor().execute(\"DROP TABLE BODO.q27_output_bodo\")"
   ]
  },
  {
   "cell_type": "markdown",
   "id": "07e00180-1028-4901-89cf-d069712dfbbc",
   "metadata": {},
   "source": [
    "# Execute the Snowflake Query\n",
    "\n",
    "To test things on Snowflake you can run your `correctness_query.sql` and `perf_query.sql` here. You will need to\n",
    "change your destination tables for proper testing."
   ]
  },
  {
   "cell_type": "code",
   "execution_count": null,
   "id": "c11e3fdf-cc37-4a6a-b900-012a5079a6d5",
   "metadata": {
    "tags": []
   },
   "outputs": [],
   "source": [
    "# Run the Snowflake Result\n",
    "\n",
    "with open(\"correctness_query.sql\", \"r\") as f:\n",
    "    if bodo.get_rank() == 0:\n",
    "        query = f.read()\n",
    "        x = conn.cursor().execute(query)"
   ]
  },
  {
   "cell_type": "markdown",
   "id": "20e2d4cf-5086-4713-b79d-365864cfecd7",
   "metadata": {},
   "source": [
    "# Check for correctness results\n",
    "\n",
    "To check correctness you should compare the result in the Snowflake table with the result in the Bodo table.\n",
    "We recommend first verifying sizes and then checking that all entries match."
   ]
  },
  {
   "cell_type": "code",
   "execution_count": null,
   "id": "86247e2f-8920-4714-826b-6ae971f1286a",
   "metadata": {
    "tags": []
   },
   "outputs": [],
   "source": [
    "# Check bodo output size\n",
    "if bodo.get_rank() == 0:\n",
    "    x = conn.cursor().execute(\"select count(*) from BODO.q27_correctness_output_bodo\")\n",
    "    res = x.fetch_pandas_all()\n",
    "else:\n",
    "    res = None\n",
    "res"
   ]
  },
  {
   "cell_type": "code",
   "execution_count": null,
   "id": "23acae1e-7564-4b53-9a48-111e9dd005eb",
   "metadata": {
    "tags": []
   },
   "outputs": [],
   "source": [
    "# Check snowflake output size\n",
    "if bodo.get_rank() == 0:\n",
    "    x = conn.cursor().execute(\"select count(*) from BODO.q27_correctness_output_snowflake\")\n",
    "    res = x.fetch_pandas_all()\n",
    "else:\n",
    "    res = None\n",
    "res"
   ]
  },
  {
   "cell_type": "code",
   "execution_count": null,
   "id": "b6f56940-a1bd-4f68-ae64-6565fae9927a",
   "metadata": {
    "tags": []
   },
   "outputs": [],
   "source": [
    "# Directly compare results. If there are floating point columns you may need to exclude those as we\n",
    "# may not match directly. This is also true if any data is generated that relies on exactly when the query is\n",
    "# run (e.g. current_time()).\n",
    "if bodo.get_rank() == 0:\n",
    "    x = conn.cursor().execute(\"select * from BODO.q27_correctness_output_snowflake except select * from BODO.q27_correctness_output_bodo\")\n",
    "    res = x.fetch_pandas_all()\n",
    "else:\n",
    "    res = None\n",
    "res"
   ]
  },
  {
   "cell_type": "markdown",
   "id": "a3d1cdea-dccc-4baa-bf1a-e60b185387f0",
   "metadata": {},
   "source": [
    "# Finding additional filters\n",
    "\n",
    "Here are some example queries used to find additinoal filters. Notice that the main things we check for each table are\n",
    "`count(*)` and `select A, count(*) as cnt from table group by A order by cnt DESC`. Looking at clustered keys\n",
    "can help derive simple filters for testing correctness. We are also sure to manually copy any static filters so\n",
    "we are looking at the correct data."
   ]
  },
  {
   "cell_type": "code",
   "execution_count": null,
   "id": "6c9e9438-721b-4b21-8628-5762bf7a7e01",
   "metadata": {
    "tags": []
   },
   "outputs": [],
   "source": [
    "if bodo.get_rank() == 0:\n",
    "    x = conn.cursor().execute(\"\"\"select comp_mst_product_id, count(*) as cnt from link.links WHERE link_type in ('EXACT','GOOD', 'FAIR') and link_status = 'APPROVED' and client_id not in ('7c58cb6f-26c5-469d-8796-940c67cf2051', 'c098b626-4f3b-4db1-8526-a802d5573f7c', \n",
    "                           'ec380af9-7e76-403a-8cec-7ff125a99f3d', '88251f63-0680-4b59-8029-3b37a821b0a8') and ret_product_id in (57735178, 75779006, 17384476) group by comp_mst_product_id order by cnt desc\"\"\")\n",
    "    res = x.fetch_pandas_all()\n",
    "else:\n",
    "    res = None\n",
    "res"
   ]
  },
  {
   "cell_type": "code",
   "execution_count": null,
   "id": "5e208d30-06ca-4978-bebf-01316e531ec8",
   "metadata": {
    "tags": []
   },
   "outputs": [],
   "source": [
    "if bodo.get_rank() == 0:\n",
    "    x = conn.cursor().execute(\"\"\"select count(*) from product.ret_product where ret_product_id in (57735178, 75779006, 17384476)\"\"\")\n",
    "    res = x.fetch_pandas_all()\n",
    "else:\n",
    "    res = None\n",
    "res"
   ]
  },
  {
   "cell_type": "code",
   "execution_count": null,
   "id": "b6dc49f1-3944-40e0-bae6-e32584756057",
   "metadata": {
    "tags": []
   },
   "outputs": [],
   "source": [
    "if bodo.get_rank() == 0:\n",
    "    x = conn.cursor().execute(\"\"\"select count(*) from product.ret_product where mst_product_id in (-1, 1007388, 1195330, 1159305)\"\"\")\n",
    "    res = x.fetch_pandas_all()\n",
    "else:\n",
    "    res = None\n",
    "res"
   ]
  },
  {
   "cell_type": "code",
   "execution_count": null,
   "id": "c83d9598-3d9e-4d01-8669-7d7927bbe3c7",
   "metadata": {},
   "outputs": [],
   "source": []
  },
  {
   "cell_type": "code",
   "execution_count": null,
   "id": "7cfed83f-430b-4138-94bb-0d8c30732d70",
   "metadata": {
    "tags": []
   },
   "outputs": [],
   "source": [
    "if bodo.get_rank() == 0:\n",
    "    x = conn.cursor().execute(\"\"\"select ret_product_id, count(ret_product_id) as cnt from product.ret_product group by ret_product_id\n",
    "    order by cnt DESC\"\"\")\n",
    "    res = x.fetch_pandas_all()\n",
    "else:\n",
    "    res = None\n",
    "res\n",
    "# All unique"
   ]
  },
  {
   "cell_type": "code",
   "execution_count": null,
   "id": "9d2e89d1-59ac-4d91-9611-72e16106630d",
   "metadata": {
    "tags": []
   },
   "outputs": [],
   "source": [
    "if bodo.get_rank() == 0:\n",
    "    x = conn.cursor().execute(\"\"\"select mst_product_id, count(mst_product_id) as cnt from product.ret_product group by mst_product_id\n",
    "    order by cnt DESC\"\"\")\n",
    "    res = x.fetch_pandas_all()\n",
    "else:\n",
    "    res = None\n",
    "res"
   ]
  },
  {
   "cell_type": "code",
   "execution_count": null,
   "id": "897506dc-76c6-4129-b5e5-9b58f66ffb78",
   "metadata": {
    "tags": []
   },
   "outputs": [],
   "source": [
    "if bodo.get_rank() == 0:\n",
    "    x = conn.cursor().execute(\"\"\"select ret_product_id, count(ret_product_id) as cnt from link.links WHERE link_type in ('EXACT','GOOD', 'FAIR') and link_status = 'APPROVED' and client_id not in ('7c58cb6f-26c5-469d-8796-940c67cf2051', 'c098b626-4f3b-4db1-8526-a802d5573f7c', \n",
    "                           'ec380af9-7e76-403a-8cec-7ff125a99f3d', '88251f63-0680-4b59-8029-3b37a821b0a8') group by ret_product_id\n",
    "    order by cnt DESC\"\"\")\n",
    "    res = x.fetch_pandas_all()\n",
    "else:\n",
    "    res = None\n",
    "res"
   ]
  },
  {
   "cell_type": "code",
   "execution_count": null,
   "id": "4e398bcb-d962-418c-96d7-68ea34d886fc",
   "metadata": {
    "tags": []
   },
   "outputs": [],
   "source": [
    "if bodo.get_rank() == 0:\n",
    "    x = conn.cursor().execute(\"\"\"select count(*) from coverage.product_coverage_store_set where \n",
    "    store_set_id = '93d5112a-47ef-4103-b94e-7aacd22f6012' and level = 0 and ret_product_id in (57735178, 75779006, 17384476)\"\"\")\n",
    "    res = x.fetch_pandas_all()\n",
    "else:\n",
    "    res = None\n",
    "res"
   ]
  },
  {
   "cell_type": "code",
   "execution_count": null,
   "id": "507cd322-47fd-451d-a85e-b042e10c9b68",
   "metadata": {},
   "outputs": [],
   "source": []
  }
 ],
 "metadata": {
  "kernelspec": {
   "display_name": "SSH bodo@10.30.16.4 Remote-Kernel",
   "language": "",
   "name": "rik_ssh_bodo_10_30_16_4_remotekernel"
  },
  "language_info": {
   "codemirror_mode": {
    "name": "ipython",
    "version": 3
   },
   "file_extension": ".py",
   "mimetype": "text/x-python",
   "name": "python",
   "nbconvert_exporter": "python",
   "pygments_lexer": "ipython3",
   "version": "3.10.9"
  }
 },
 "nbformat": 4,
 "nbformat_minor": 5
}
