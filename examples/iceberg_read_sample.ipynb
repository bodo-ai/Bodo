{
 "cells": [
  {
   "cell_type": "markdown",
   "id": "d31de458",
   "metadata": {},
   "source": [
    "# Setup\n",
    "\n",
    "This example demonstrates basic read and write of Iceberg tables in Bodo. We will read TPC-H data from S3 and create Iceberg tables locally (requires configuring your aws credentials, e.g. ensure you have run `aws configure`)."
   ]
  },
  {
   "cell_type": "code",
   "execution_count": 3,
   "id": "26efe136-556f-4d0a-8654-1ccbe5eac171",
   "metadata": {},
   "outputs": [
    {
     "name": "stderr",
     "output_type": "stream",
     "text": [
      "/Users/ehsan/dev/Bodo/bodo/io/parquet_pio.py:1012: BodoWarning: Parquet average row group size is small (448130 bytes) and can have negative impact on performance when reading from remote sources\n",
      "  warnings.warn(\n"
     ]
    }
   ],
   "source": [
    "import pandas as pd\n",
    "import numpy as np\n",
    "import bodo\n",
    "import time\n",
    "\n",
    "@bodo.jit\n",
    "def bodo_read_parquet(path):\n",
    "    return pd.read_parquet(path)\n",
    "\n",
    "bodo_df = bodo_read_parquet(\"s3://bodo-example-data/tpch/SF1/lineitem.pq\")"
   ]
  },
  {
   "cell_type": "code",
   "execution_count": 4,
   "id": "c829b67c",
   "metadata": {},
   "outputs": [
    {
     "data": {
      "text/plain": [
       "(6001215, 16)"
      ]
     },
     "execution_count": 4,
     "metadata": {},
     "output_type": "execute_result"
    }
   ],
   "source": [
    "bodo_df.shape"
   ]
  },
  {
   "cell_type": "markdown",
   "id": "41cd2ddf",
   "metadata": {},
   "source": [
    "Bodo supports various catalogs for interacting with Iceberg tables. We will use the local filesystem here for simplicity. See Bodo's [iceberg documentation](https://docs.bodo.ai/2024.2/file_io/?h=iceberg#iceberg-section) for more details."
   ]
  },
  {
   "cell_type": "code",
   "execution_count": 5,
   "id": "7982c4d4",
   "metadata": {},
   "outputs": [
    {
     "name": "stdout",
     "output_type": "stream",
     "text": [
      "starting write...\n"
     ]
    },
    {
     "name": "stderr",
     "output_type": "stream",
     "text": [
      "Launching JVM with Java executable: /Users/ehsan/dev/Bodo/.pixi/envs/default/lib/jvm/bin/java\n",
      "WARNING: An illegal reflective access operation has occurred\n",
      "WARNING: Illegal reflective access by py4j.reflection.ReflectionShim (file:/Users/ehsan/dev/Bodo/iceberg/bodo_iceberg_connector/jars/libs/py4j-0.10.9.7.jar) to method java.util.Collections$UnmodifiableCollection.iterator()\n",
      "WARNING: Please consider reporting this to the maintainers of py4j.reflection.ReflectionShim\n",
      "WARNING: Use --illegal-access=warn to enable warnings of further illegal reflective access operations\n",
      "WARNING: All illegal access operations will be denied in a future release\n"
     ]
    }
   ],
   "source": [
    "import os\n",
    "conn = f\"iceberg+file://{os.getcwd()}/\"\n",
    "\n",
    "db_name = \"TEST_DB\"\n",
    "table_name = \"SF1_LINEITEM_PQ_A\"\n",
    "\n",
    "@bodo.jit\n",
    "def write_iceberg_table(df):\n",
    "    df.to_sql(table_name, conn, schema=db_name, if_exists=\"fail\", index=False)\n",
    "\n",
    "write_iceberg_table(bodo_df)"
   ]
  },
  {
   "cell_type": "markdown",
   "id": "53aee67c-91da-468e-a4f0-cf83072da5d7",
   "metadata": {},
   "source": [
    "Now we can read the table:"
   ]
  },
  {
   "cell_type": "code",
   "execution_count": 11,
   "id": "47eed282",
   "metadata": {},
   "outputs": [
    {
     "name": "stdout",
     "output_type": "stream",
     "text": [
      "Read time (s) 0.9320029999980761\n"
     ]
    }
   ],
   "source": [
    "@bodo.jit\n",
    "def read_iceberg_table(conn, table_name, db_name):\n",
    "    start_time = time.time()\n",
    "    df = pd.read_sql_table(\n",
    "            table_name=table_name,\n",
    "            con=conn,\n",
    "            schema=db_name\n",
    "        )\n",
    "    print(\"Read time (s)\", time.time() - start_time)\n",
    "    return df\n",
    "\n",
    "lineitem = read_iceberg_table(conn, table_name, db_name)"
   ]
  },
  {
   "cell_type": "markdown",
   "id": "49d29c66-f2ef-4eec-9a41-786fa2b47c70",
   "metadata": {},
   "source": [
    "The output Pandas dataframe can be used for computation as usual:"
   ]
  },
  {
   "cell_type": "code",
   "execution_count": 12,
   "id": "64d2779e-abaa-46b0-a824-81f753ced502",
   "metadata": {
    "tags": []
   },
   "outputs": [
    {
     "name": "stdout",
     "output_type": "stream",
     "text": [
      "  L_RETURNFLAG L_LINESTATUS  L_QUANTITY  ...     AVG_PRICE  L_DISCOUNT  L_ORDERKEY\n",
      "2            A            F  37734107.0  ...  38273.129735    0.049985     1478493\n",
      "0            N            F    991417.0  ...  38284.467761    0.050093       38854\n",
      "1            N            O  74476040.0  ...  38249.117989    0.049997     2920374\n",
      "3            R            F  37719753.0  ...  38250.854626    0.050009     1478870\n",
      "\n",
      "[4 rows x 10 columns]\n",
      "Q01 Execution time (s):  2.0284760000031383\n"
     ]
    }
   ],
   "source": [
    "@bodo.jit\n",
    "def q01(lineitem):\n",
    "    t1 = time.time()\n",
    "    date = pd.Timestamp(\"1998-09-02\")\n",
    "    lineitem_filtered = lineitem.loc[\n",
    "                        :,\n",
    "                        [\n",
    "                            \"L_QUANTITY\",\n",
    "                            \"L_EXTENDEDPRICE\",\n",
    "                            \"L_DISCOUNT\",\n",
    "                            \"L_TAX\",\n",
    "                            \"L_RETURNFLAG\",\n",
    "                            \"L_LINESTATUS\",\n",
    "                            \"L_SHIPDATE\",\n",
    "                            \"L_ORDERKEY\",\n",
    "                        ],\n",
    "                        ]\n",
    "    sel = lineitem_filtered.L_SHIPDATE <= date\n",
    "    lineitem_filtered = lineitem_filtered[sel]\n",
    "    lineitem_filtered[\"AVG_QTY\"] = lineitem_filtered.L_QUANTITY\n",
    "    lineitem_filtered[\"AVG_PRICE\"] = lineitem_filtered.L_EXTENDEDPRICE\n",
    "    lineitem_filtered[\"DISC_PRICE\"] = lineitem_filtered.L_EXTENDEDPRICE * (\n",
    "            1 - lineitem_filtered.L_DISCOUNT\n",
    "    )\n",
    "    lineitem_filtered[\"CHARGE\"] = (\n",
    "            lineitem_filtered.L_EXTENDEDPRICE\n",
    "            * (1 - lineitem_filtered.L_DISCOUNT)\n",
    "            * (1 + lineitem_filtered.L_TAX)\n",
    "    )\n",
    "    gb = lineitem_filtered.groupby([\"L_RETURNFLAG\", \"L_LINESTATUS\"], as_index=False)[\n",
    "        \"L_QUANTITY\",\n",
    "        \"L_EXTENDEDPRICE\",\n",
    "        \"DISC_PRICE\",\n",
    "        \"CHARGE\",\n",
    "        \"AVG_QTY\",\n",
    "        \"AVG_PRICE\",\n",
    "        \"L_DISCOUNT\",\n",
    "        \"L_ORDERKEY\",\n",
    "    ]\n",
    "    total = gb.agg(\n",
    "        {\n",
    "            \"L_QUANTITY\": \"sum\",\n",
    "            \"L_EXTENDEDPRICE\": \"sum\",\n",
    "            \"DISC_PRICE\": \"sum\",\n",
    "            \"CHARGE\": \"sum\",\n",
    "            \"AVG_QTY\": \"mean\",\n",
    "            \"AVG_PRICE\": \"mean\",\n",
    "            \"L_DISCOUNT\": \"mean\",\n",
    "            \"L_ORDERKEY\": \"count\",\n",
    "        }\n",
    "    )\n",
    "    total = total.sort_values([\"L_RETURNFLAG\", \"L_LINESTATUS\"])\n",
    "    print(total.head())\n",
    "    print(\"Q01 Execution time (s): \", time.time() - t1)\n",
    "\n",
    "q01(lineitem)"
   ]
  },
  {
   "cell_type": "code",
   "execution_count": null,
   "id": "bdad2ee5-67c4-4d4b-8d7a-b54f7a5bde65",
   "metadata": {},
   "outputs": [],
   "source": []
  }
 ],
 "metadata": {
  "kernelspec": {
   "display_name": "Python 3 (ipykernel)",
   "language": "python",
   "name": "python3"
  },
  "language_info": {
   "codemirror_mode": {
    "name": "ipython",
    "version": 3
   },
   "file_extension": ".py",
   "mimetype": "text/x-python",
   "name": "python",
   "nbconvert_exporter": "python",
   "pygments_lexer": "ipython3",
   "version": "3.12.7"
  }
 },
 "nbformat": 4,
 "nbformat_minor": 5
}
