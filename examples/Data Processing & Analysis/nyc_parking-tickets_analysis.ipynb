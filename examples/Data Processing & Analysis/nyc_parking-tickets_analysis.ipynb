{
 "cells": [
  {
   "cell_type": "markdown",
   "metadata": {},
   "source": [
    "# NYC Parking Violations\n",
    "This example demonstrates transforming New York City parking summons data to create maps. Original example can be found [here](https://github.com/JBlumstein/NYCParking/blob/master/NYC_Parking_Violations_Mapping_Example.ipynb)."
   ]
  },
  {
   "cell_type": "code",
   "execution_count": 1,
   "metadata": {
    "tags": []
   },
   "outputs": [],
   "source": [
    "import numpy as np\n",
    "import pandas as pd\n",
    "import time\n",
    "import bodo"
   ]
  },
  {
   "cell_type": "markdown",
   "metadata": {},
   "source": [
    "## Data Loading\n",
    "In this section parking tickets data is loaded from S3 bucket and aggregated by day, violation type, and police precinct and placed in a dataframe. In addition, violcation codes, and precincts information are loaded as well."
   ]
  },
  {
   "cell_type": "code",
   "execution_count": 2,
   "metadata": {
    "tags": []
   },
   "outputs": [
    {
     "name": "stdout",
     "output_type": "stream",
     "text": [
      "Read and groupby time:  6.225391999999829\n"
     ]
    },
    {
     "data": {
      "text/html": [
       "<div>\n",
       "<style scoped>\n",
       "    .dataframe tbody tr th:only-of-type {\n",
       "        vertical-align: middle;\n",
       "    }\n",
       "\n",
       "    .dataframe tbody tr th {\n",
       "        vertical-align: top;\n",
       "    }\n",
       "\n",
       "    .dataframe thead th {\n",
       "        text-align: right;\n",
       "    }\n",
       "</style>\n",
       "<table border=\"1\" class=\"dataframe\">\n",
       "  <thead>\n",
       "    <tr style=\"text-align: right;\">\n",
       "      <th></th>\n",
       "      <th>Issue Date</th>\n",
       "      <th>Violation County</th>\n",
       "      <th>Violation Precinct</th>\n",
       "      <th>Violation Code</th>\n",
       "      <th>Summons Number</th>\n",
       "    </tr>\n",
       "  </thead>\n",
       "  <tbody>\n",
       "    <tr>\n",
       "      <th>0</th>\n",
       "      <td>2015-07-09</td>\n",
       "      <td>K</td>\n",
       "      <td>88</td>\n",
       "      <td>21</td>\n",
       "      <td>59</td>\n",
       "    </tr>\n",
       "    <tr>\n",
       "      <th>1</th>\n",
       "      <td>2015-07-09</td>\n",
       "      <td>K</td>\n",
       "      <td>90</td>\n",
       "      <td>20</td>\n",
       "      <td>26</td>\n",
       "    </tr>\n",
       "    <tr>\n",
       "      <th>2</th>\n",
       "      <td>2015-07-09</td>\n",
       "      <td>K</td>\n",
       "      <td>90</td>\n",
       "      <td>71</td>\n",
       "      <td>11</td>\n",
       "    </tr>\n",
       "    <tr>\n",
       "      <th>3</th>\n",
       "      <td>2015-07-09</td>\n",
       "      <td>K</td>\n",
       "      <td>90</td>\n",
       "      <td>74</td>\n",
       "      <td>5</td>\n",
       "    </tr>\n",
       "    <tr>\n",
       "      <th>4</th>\n",
       "      <td>2015-06-23</td>\n",
       "      <td>K</td>\n",
       "      <td>75</td>\n",
       "      <td>66</td>\n",
       "      <td>6</td>\n",
       "    </tr>\n",
       "  </tbody>\n",
       "</table>\n",
       "</div>"
      ],
      "text/plain": [
       "  Issue Date Violation County  Violation Precinct  Violation Code  \\\n",
       "0 2015-07-09                K                  88              21   \n",
       "1 2015-07-09                K                  90              20   \n",
       "2 2015-07-09                K                  90              71   \n",
       "3 2015-07-09                K                  90              74   \n",
       "4 2015-06-23                K                  75              66   \n",
       "\n",
       "   Summons Number  \n",
       "0              59  \n",
       "1              26  \n",
       "2              11  \n",
       "3               5  \n",
       "4               6  "
      ]
     },
     "metadata": {},
     "output_type": "display_data"
    }
   ],
   "source": [
    "@bodo.jit(cache=True)\n",
    "def load_parking_tickets():\n",
    "    start = time.time()\n",
    "    year_2016_df = pd.read_parquet('s3://bodo-example-data/nyc-parking-tickets/Parking_Violations_Issued_-_Fiscal_Year_2016_8.pq')\n",
    "    year_2016_df = year_2016_df.groupby(['Issue Date','Violation County','Violation Precinct','Violation Code'], as_index=False)['Summons Number'].count()\n",
    "    print(\"Read and groupby time: \", time.time() - start)\n",
    "    return year_2016_df\n",
    "\n",
    "main_df = load_parking_tickets()\n",
    "print(main_df.head())"
   ]
  },
  {
   "cell_type": "code",
   "execution_count": 5,
   "metadata": {
    "tags": []
   },
   "outputs": [
    {
     "name": "stdout",
     "output_type": "stream",
     "text": [
      "Violation and precincts load time:  0.006868999999824155\n"
     ]
    }
   ],
   "source": [
    "@bodo.jit(distributed=False)\n",
    "def load_violation_precincts_codes():\n",
    "    start = time.time()\n",
    "    violation_codes = pd.read_csv(\"./data/DOF_Parking_Violation_Codes.csv\")\n",
    "    violation_codes.columns = ['Violation Code','Definition','manhattan_96_and_below','all_other_areas']\n",
    "    nyc_precincts_df = pd.read_csv(\"./data/nyc_precincts.csv\", index_col='index')\n",
    "    print(\"Violation and precincts load time: \", time.time() - start)\n",
    "    return violation_codes, nyc_precincts_df\n",
    "\n",
    "violation_codes, nyc_precincts_df = load_violation_precincts_codes()"
   ]
  },
  {
   "cell_type": "markdown",
   "metadata": {},
   "source": [
    "## Data Cleaning\n",
    "\n",
    "1. Remove summons with undefined violations (violation code 36).\n",
    "2. Delete entries that have dates not within our dataset dates."
   ]
  },
  {
   "cell_type": "code",
   "execution_count": 6,
   "metadata": {
    "tags": []
   },
   "outputs": [
    {
     "name": "stdout",
     "output_type": "stream",
     "text": [
      "Eliminate undefined violations time:  1.0307010000001355\n",
      "       Issue Date Violation County  Violation Precinct  Violation Code  \\\n",
      "334108 2015-11-27                Q                 114              21   \n",
      "340293 2015-12-31                Q                 114              21   \n",
      "32556  2015-11-27                Q                 115              21   \n",
      "259150 2015-11-27               BX                  43              21   \n",
      "33773  2015-12-24                Q                 114              21   \n",
      "\n",
      "        Summons Number  \n",
      "334108            1165  \n",
      "340293             778  \n",
      "32556              743  \n",
      "259150             742  \n",
      "33773              686  \n"
     ]
    }
   ],
   "source": [
    "@bodo.jit(cache=True)\n",
    "def elim_code_36(main_df):\n",
    "    start = time.time()   \n",
    "    main_df = main_df[main_df['Violation Code'] != 36].sort_values('Summons Number', ascending=False)\n",
    "    end = time.time()\n",
    "    print(\"Eliminate undefined violations time: \", end - start)\n",
    "    return main_df\n",
    "\n",
    "main_df = elim_code_36(main_df)\n",
    "print(main_df.head())"
   ]
  },
  {
   "cell_type": "code",
   "execution_count": 7,
   "metadata": {
    "tags": []
   },
   "outputs": [
    {
     "name": "stdout",
     "output_type": "stream",
     "text": [
      "Remove outliers time:  0.006421000000045751\n"
     ]
    },
    {
     "data": {
      "text/html": [
       "<div>\n",
       "<style scoped>\n",
       "    .dataframe tbody tr th:only-of-type {\n",
       "        vertical-align: middle;\n",
       "    }\n",
       "\n",
       "    .dataframe tbody tr th {\n",
       "        vertical-align: top;\n",
       "    }\n",
       "\n",
       "    .dataframe thead th {\n",
       "        text-align: right;\n",
       "    }\n",
       "</style>\n",
       "<table border=\"1\" class=\"dataframe\">\n",
       "  <thead>\n",
       "    <tr style=\"text-align: right;\">\n",
       "      <th></th>\n",
       "      <th>Issue Date</th>\n",
       "      <th>Violation County</th>\n",
       "      <th>Violation Precinct</th>\n",
       "      <th>Violation Code</th>\n",
       "      <th>Summons Number</th>\n",
       "    </tr>\n",
       "  </thead>\n",
       "  <tbody>\n",
       "    <tr>\n",
       "      <th>365458</th>\n",
       "      <td>2016-05-08</td>\n",
       "      <td>BK</td>\n",
       "      <td>0</td>\n",
       "      <td>7</td>\n",
       "      <td>684</td>\n",
       "    </tr>\n",
       "    <tr>\n",
       "      <th>215067</th>\n",
       "      <td>2016-04-30</td>\n",
       "      <td>BK</td>\n",
       "      <td>0</td>\n",
       "      <td>7</td>\n",
       "      <td>666</td>\n",
       "    </tr>\n",
       "    <tr>\n",
       "      <th>290349</th>\n",
       "      <td>2016-05-08</td>\n",
       "      <td>QN</td>\n",
       "      <td>0</td>\n",
       "      <td>7</td>\n",
       "      <td>632</td>\n",
       "    </tr>\n",
       "    <tr>\n",
       "      <th>215068</th>\n",
       "      <td>2016-04-30</td>\n",
       "      <td>QN</td>\n",
       "      <td>0</td>\n",
       "      <td>7</td>\n",
       "      <td>607</td>\n",
       "    </tr>\n",
       "    <tr>\n",
       "      <th>591138</th>\n",
       "      <td>2016-05-07</td>\n",
       "      <td>BK</td>\n",
       "      <td>0</td>\n",
       "      <td>7</td>\n",
       "      <td>567</td>\n",
       "    </tr>\n",
       "  </tbody>\n",
       "</table>\n",
       "</div>"
      ],
      "text/plain": [
       "       Issue Date Violation County  Violation Precinct  Violation Code  \\\n",
       "365458 2016-05-08               BK                   0               7   \n",
       "215067 2016-04-30               BK                   0               7   \n",
       "290349 2016-05-08               QN                   0               7   \n",
       "215068 2016-04-30               QN                   0               7   \n",
       "591138 2016-05-07               BK                   0               7   \n",
       "\n",
       "        Summons Number  \n",
       "365458             684  \n",
       "215067             666  \n",
       "290349             632  \n",
       "215068             607  \n",
       "591138             567  "
      ]
     },
     "metadata": {},
     "output_type": "display_data"
    }
   ],
   "source": [
    "@bodo.jit(cache=True)\n",
    "def remove_outliers(main_df):\n",
    "    start = time.time()\n",
    "    main_df = main_df[(main_df['Issue Date'] >= '2016-01-01') & (main_df['Issue Date'] <= '2017-12-31')]\n",
    "    print(\"Remove outliers time: \", (time.time()-start)) \n",
    "    return main_df\n",
    "\n",
    "main_df = remove_outliers(main_df)\n",
    "main_df.head()"
   ]
  },
  {
   "cell_type": "markdown",
   "metadata": {},
   "source": [
    "## Collect More Information\n",
    "Data on each violation type, like ticket cost and violation descriptions, are added to the dataset by joining our main_df dataset with a violation type level dataset"
   ]
  },
  {
   "cell_type": "code",
   "execution_count": 8,
   "metadata": {
    "tags": []
   },
   "outputs": [
    {
     "name": "stdout",
     "output_type": "stream",
     "text": [
      "Merge time:  0.087203000000045\n",
      "(279344, 8)\n"
     ]
    },
    {
     "data": {
      "text/html": [
       "<div>\n",
       "<style scoped>\n",
       "    .dataframe tbody tr th:only-of-type {\n",
       "        vertical-align: middle;\n",
       "    }\n",
       "\n",
       "    .dataframe tbody tr th {\n",
       "        vertical-align: top;\n",
       "    }\n",
       "\n",
       "    .dataframe thead th {\n",
       "        text-align: right;\n",
       "    }\n",
       "</style>\n",
       "<table border=\"1\" class=\"dataframe\">\n",
       "  <thead>\n",
       "    <tr style=\"text-align: right;\">\n",
       "      <th></th>\n",
       "      <th>Issue Date</th>\n",
       "      <th>Violation County</th>\n",
       "      <th>Violation Precinct</th>\n",
       "      <th>Violation Code</th>\n",
       "      <th>Summons Number</th>\n",
       "      <th>Definition</th>\n",
       "      <th>manhattan_96_and_below</th>\n",
       "      <th>all_other_areas</th>\n",
       "    </tr>\n",
       "  </thead>\n",
       "  <tbody>\n",
       "    <tr>\n",
       "      <th>0</th>\n",
       "      <td>2016-05-08</td>\n",
       "      <td>BK</td>\n",
       "      <td>0</td>\n",
       "      <td>7</td>\n",
       "      <td>684</td>\n",
       "      <td>Vehicles photographed going through a red ligh...</td>\n",
       "      <td>50</td>\n",
       "      <td>50</td>\n",
       "    </tr>\n",
       "    <tr>\n",
       "      <th>1</th>\n",
       "      <td>2016-04-30</td>\n",
       "      <td>BK</td>\n",
       "      <td>0</td>\n",
       "      <td>7</td>\n",
       "      <td>666</td>\n",
       "      <td>Vehicles photographed going through a red ligh...</td>\n",
       "      <td>50</td>\n",
       "      <td>50</td>\n",
       "    </tr>\n",
       "    <tr>\n",
       "      <th>2</th>\n",
       "      <td>2016-05-08</td>\n",
       "      <td>QN</td>\n",
       "      <td>0</td>\n",
       "      <td>7</td>\n",
       "      <td>632</td>\n",
       "      <td>Vehicles photographed going through a red ligh...</td>\n",
       "      <td>50</td>\n",
       "      <td>50</td>\n",
       "    </tr>\n",
       "    <tr>\n",
       "      <th>3</th>\n",
       "      <td>2016-04-30</td>\n",
       "      <td>QN</td>\n",
       "      <td>0</td>\n",
       "      <td>7</td>\n",
       "      <td>607</td>\n",
       "      <td>Vehicles photographed going through a red ligh...</td>\n",
       "      <td>50</td>\n",
       "      <td>50</td>\n",
       "    </tr>\n",
       "    <tr>\n",
       "      <th>4</th>\n",
       "      <td>2016-05-07</td>\n",
       "      <td>BK</td>\n",
       "      <td>0</td>\n",
       "      <td>7</td>\n",
       "      <td>567</td>\n",
       "      <td>Vehicles photographed going through a red ligh...</td>\n",
       "      <td>50</td>\n",
       "      <td>50</td>\n",
       "    </tr>\n",
       "  </tbody>\n",
       "</table>\n",
       "</div>"
      ],
      "text/plain": [
       "  Issue Date Violation County  Violation Precinct  Violation Code  \\\n",
       "0 2016-05-08               BK                   0               7   \n",
       "1 2016-04-30               BK                   0               7   \n",
       "2 2016-05-08               QN                   0               7   \n",
       "3 2016-04-30               QN                   0               7   \n",
       "4 2016-05-07               BK                   0               7   \n",
       "\n",
       "   Summons Number                                         Definition  \\\n",
       "0             684  Vehicles photographed going through a red ligh...   \n",
       "1             666  Vehicles photographed going through a red ligh...   \n",
       "2             632  Vehicles photographed going through a red ligh...   \n",
       "3             607  Vehicles photographed going through a red ligh...   \n",
       "4             567  Vehicles photographed going through a red ligh...   \n",
       "\n",
       "   manhattan_96_and_below  all_other_areas  \n",
       "0                      50               50  \n",
       "1                      50               50  \n",
       "2                      50               50  \n",
       "3                      50               50  \n",
       "4                      50               50  "
      ]
     },
     "metadata": {},
     "output_type": "display_data"
    }
   ],
   "source": [
    "@bodo.jit(cache=True)\n",
    "def merge_violation_code(main_df, violation_codes):\n",
    "    start = time.time()\n",
    "    # left join main_df and violation_codes df so that there's more info on violation in main_df\n",
    "    main_df = pd.merge(main_df, violation_codes, on='Violation Code', how='left')\n",
    "    # cast precincts as integers from floats (inadvertent type change by merge)\n",
    "    main_df['Violation Precinct'] = main_df['Violation Precinct'].astype(int)    \n",
    "    print(\"Merge time: \", (time.time()-start))\n",
    "    print(main_df.shape)\n",
    "    return main_df\n",
    "\n",
    "main_w_violation = merge_violation_code(main_df, violation_codes)\n",
    "print(main_w_violation.head())"
   ]
  },
  {
   "cell_type": "markdown",
   "metadata": {},
   "source": [
    "## Compute Cost of Summons For Each Precinct\n",
    "\n",
    "1. Most violations have different ticket prices, based on whether they occur in Manhattan below 96th St. or elsewhere in New York City. The daily revenue for each violation type in each precinct are determined by multiplying the number of offenses by the average cost of the offense (based on how much of the precinct is in Manhattan below 96th St.)."
   ]
  },
  {
   "cell_type": "code",
   "execution_count": 11,
   "metadata": {
    "tags": []
   },
   "outputs": [
    {
     "name": "stdout",
     "output_type": "stream",
     "text": [
      "Calculate Total Summons Time:  0.9133640000000014\n"
     ]
    },
    {
     "data": {
      "text/html": [
       "<div>\n",
       "<style scoped>\n",
       "    .dataframe tbody tr th:only-of-type {\n",
       "        vertical-align: middle;\n",
       "    }\n",
       "\n",
       "    .dataframe tbody tr th {\n",
       "        vertical-align: top;\n",
       "    }\n",
       "\n",
       "    .dataframe thead th {\n",
       "        text-align: right;\n",
       "    }\n",
       "</style>\n",
       "<table border=\"1\" class=\"dataframe\">\n",
       "  <thead>\n",
       "    <tr style=\"text-align: right;\">\n",
       "      <th></th>\n",
       "      <th>Issue Date</th>\n",
       "      <th>Violation County</th>\n",
       "      <th>Violation Precinct</th>\n",
       "      <th>Violation Code</th>\n",
       "      <th>Summons Number</th>\n",
       "      <th>Definition</th>\n",
       "      <th>manhattan_96_and_below</th>\n",
       "      <th>all_other_areas</th>\n",
       "      <th>portion_manhattan_96_and_below</th>\n",
       "      <th>average_summons_amount</th>\n",
       "      <th>total_summons_dollars</th>\n",
       "    </tr>\n",
       "  </thead>\n",
       "  <tbody>\n",
       "    <tr>\n",
       "      <th>16</th>\n",
       "      <td>2016-01-22</td>\n",
       "      <td>NY</td>\n",
       "      <td>18</td>\n",
       "      <td>14</td>\n",
       "      <td>452</td>\n",
       "      <td>General No Standing: Standing or parking where...</td>\n",
       "      <td>115</td>\n",
       "      <td>115</td>\n",
       "      <td>1.0</td>\n",
       "      <td>115.0</td>\n",
       "      <td>51980.0</td>\n",
       "    </tr>\n",
       "    <tr>\n",
       "      <th>29</th>\n",
       "      <td>2016-01-12</td>\n",
       "      <td>NY</td>\n",
       "      <td>18</td>\n",
       "      <td>14</td>\n",
       "      <td>427</td>\n",
       "      <td>General No Standing: Standing or parking where...</td>\n",
       "      <td>115</td>\n",
       "      <td>115</td>\n",
       "      <td>1.0</td>\n",
       "      <td>115.0</td>\n",
       "      <td>49105.0</td>\n",
       "    </tr>\n",
       "    <tr>\n",
       "      <th>30</th>\n",
       "      <td>2016-01-07</td>\n",
       "      <td>NY</td>\n",
       "      <td>18</td>\n",
       "      <td>14</td>\n",
       "      <td>426</td>\n",
       "      <td>General No Standing: Standing or parking where...</td>\n",
       "      <td>115</td>\n",
       "      <td>115</td>\n",
       "      <td>1.0</td>\n",
       "      <td>115.0</td>\n",
       "      <td>48990.0</td>\n",
       "    </tr>\n",
       "    <tr>\n",
       "      <th>32</th>\n",
       "      <td>2016-01-29</td>\n",
       "      <td>NY</td>\n",
       "      <td>18</td>\n",
       "      <td>14</td>\n",
       "      <td>421</td>\n",
       "      <td>General No Standing: Standing or parking where...</td>\n",
       "      <td>115</td>\n",
       "      <td>115</td>\n",
       "      <td>1.0</td>\n",
       "      <td>115.0</td>\n",
       "      <td>48415.0</td>\n",
       "    </tr>\n",
       "    <tr>\n",
       "      <th>36</th>\n",
       "      <td>2016-02-04</td>\n",
       "      <td>NY</td>\n",
       "      <td>18</td>\n",
       "      <td>14</td>\n",
       "      <td>420</td>\n",
       "      <td>General No Standing: Standing or parking where...</td>\n",
       "      <td>115</td>\n",
       "      <td>115</td>\n",
       "      <td>1.0</td>\n",
       "      <td>115.0</td>\n",
       "      <td>48300.0</td>\n",
       "    </tr>\n",
       "  </tbody>\n",
       "</table>\n",
       "</div>"
      ],
      "text/plain": [
       "   Issue Date Violation County  Violation Precinct  Violation Code  \\\n",
       "16 2016-01-22               NY                  18              14   \n",
       "29 2016-01-12               NY                  18              14   \n",
       "30 2016-01-07               NY                  18              14   \n",
       "32 2016-01-29               NY                  18              14   \n",
       "36 2016-02-04               NY                  18              14   \n",
       "\n",
       "    Summons Number                                         Definition  \\\n",
       "16             452  General No Standing: Standing or parking where...   \n",
       "29             427  General No Standing: Standing or parking where...   \n",
       "30             426  General No Standing: Standing or parking where...   \n",
       "32             421  General No Standing: Standing or parking where...   \n",
       "36             420  General No Standing: Standing or parking where...   \n",
       "\n",
       "    manhattan_96_and_below  all_other_areas  portion_manhattan_96_and_below  \\\n",
       "16                     115              115                             1.0   \n",
       "29                     115              115                             1.0   \n",
       "30                     115              115                             1.0   \n",
       "32                     115              115                             1.0   \n",
       "36                     115              115                             1.0   \n",
       "\n",
       "    average_summons_amount  total_summons_dollars  \n",
       "16                   115.0                51980.0  \n",
       "29                   115.0                49105.0  \n",
       "30                   115.0                48990.0  \n",
       "32                   115.0                48415.0  \n",
       "36                   115.0                48300.0  "
      ]
     },
     "metadata": {},
     "output_type": "display_data"
    }
   ],
   "source": [
    "# calculate the total summonses in dollars for a violation in a precinct on a day\n",
    "@bodo.jit(cache=True)\n",
    "def calculate_total_summons(main_df):\n",
    "    start = time.time()\n",
    "    # create column for portion of precinct 96th st. and below\n",
    "    def get_portion(x):\n",
    "        out = 0\n",
    "        if x < 22 or x == 23:\n",
    "            out = 1.0\n",
    "        elif x == 22:\n",
    "            out = 0.75\n",
    "        elif x == 24:\n",
    "            out = 0.5\n",
    "        return out\n",
    "\n",
    "    main_df[\"portion_manhattan_96_and_below\"] = main_df['Violation Precinct'].map(get_portion)\n",
    "\n",
    "    # create column for average dollar amount of summons based on location\n",
    "    main_df['average_summons_amount'] = (main_df['portion_manhattan_96_and_below'] * main_df['manhattan_96_and_below'] \n",
    "                                     + (1 - main_df['portion_manhattan_96_and_below']) * main_df['all_other_areas'])\n",
    "\n",
    "    # get total summons dollars by multiplying average dollar amount by number of summons given\n",
    "    main_df['total_summons_dollars'] = main_df['Summons Number'] * main_df['average_summons_amount']\n",
    "    main_df = main_df.sort_values(by=['total_summons_dollars'], ascending=False)\n",
    "    end = time.time()    \n",
    "    print(\"Calculate Total Summons Time: \", (end-start))\n",
    "    return main_df\n",
    "\n",
    "total_summons = calculate_total_summons(main_w_violation)\n",
    "print(total_summons.head())"
   ]
  },
  {
   "cell_type": "markdown",
   "metadata": {},
   "source": [
    "2. The aggregate function aggregates main_df by precinct. Once the data is run through this function that it will have a single row per precinct with the precinct number, the number of summonses, and the combined dollar value of the summonses."
   ]
  },
  {
   "cell_type": "code",
   "execution_count": 12,
   "metadata": {
    "tags": []
   },
   "outputs": [
    {
     "name": "stdout",
     "output_type": "stream",
     "text": [
      "Aggregate code time:  0.4767029999998158\n"
     ]
    },
    {
     "data": {
      "text/html": [
       "<div>\n",
       "<style scoped>\n",
       "    .dataframe tbody tr th:only-of-type {\n",
       "        vertical-align: middle;\n",
       "    }\n",
       "\n",
       "    .dataframe tbody tr th {\n",
       "        vertical-align: top;\n",
       "    }\n",
       "\n",
       "    .dataframe thead th {\n",
       "        text-align: right;\n",
       "    }\n",
       "</style>\n",
       "<table border=\"1\" class=\"dataframe\">\n",
       "  <thead>\n",
       "    <tr style=\"text-align: right;\">\n",
       "      <th></th>\n",
       "      <th>Violation Precinct</th>\n",
       "      <th>Summons Number</th>\n",
       "      <th>total_summons_dollars</th>\n",
       "    </tr>\n",
       "  </thead>\n",
       "  <tbody>\n",
       "    <tr>\n",
       "      <th>113</th>\n",
       "      <td>19</td>\n",
       "      <td>262711</td>\n",
       "      <td>22775170.0</td>\n",
       "    </tr>\n",
       "    <tr>\n",
       "      <th>199</th>\n",
       "      <td>18</td>\n",
       "      <td>148126</td>\n",
       "      <td>14207635.0</td>\n",
       "    </tr>\n",
       "    <tr>\n",
       "      <th>138</th>\n",
       "      <td>1</td>\n",
       "      <td>150524</td>\n",
       "      <td>14156050.0</td>\n",
       "    </tr>\n",
       "    <tr>\n",
       "      <th>25</th>\n",
       "      <td>14</td>\n",
       "      <td>149838</td>\n",
       "      <td>14040050.0</td>\n",
       "    </tr>\n",
       "    <tr>\n",
       "      <th>200</th>\n",
       "      <td>13</td>\n",
       "      <td>155784</td>\n",
       "      <td>13535825.0</td>\n",
       "    </tr>\n",
       "  </tbody>\n",
       "</table>\n",
       "</div>"
      ],
      "text/plain": [
       "     Violation Precinct  Summons Number  total_summons_dollars\n",
       "113                  19          262711             22775170.0\n",
       "199                  18          148126             14207635.0\n",
       "138                   1          150524             14156050.0\n",
       "25                   14          149838             14040050.0\n",
       "200                  13          155784             13535825.0"
      ]
     },
     "metadata": {},
     "output_type": "display_data"
    }
   ],
   "source": [
    "@bodo.jit(cache=True)\n",
    "def aggregate(main_df):\n",
    "    '''function that aggregates and filters data\n",
    "    e.g. total violations by precinct\n",
    "    '''\n",
    "    start = time.time()\n",
    "    filtered_dataset = main_df[['Violation Precinct','Summons Number', 'total_summons_dollars']]\n",
    "    precinct_offenses_df = filtered_dataset.groupby(by=['Violation Precinct']).sum().reset_index().fillna(0)\n",
    "    end = time.time()\n",
    "    precinct_offenses_df = precinct_offenses_df.sort_values(\"total_summons_dollars\", ascending=False)\n",
    "    print(\"Aggregate code time: \", (end-start))\n",
    "    return precinct_offenses_df\n",
    "\n",
    "precinct_offenses_df = aggregate(total_summons)\n",
    "print(precinct_offenses_df.head())"
   ]
  },
  {
   "cell_type": "code",
   "execution_count": null,
   "metadata": {},
   "outputs": [],
   "source": []
  }
 ],
 "metadata": {
  "interpreter": {
   "hash": "16c8ad1c156570dbb9b8c59e261dba05f4270231d6ef51b3fb205099379bfe9f"
  },
  "kernelspec": {
   "display_name": "Python 3 (ipykernel)",
   "language": "python",
   "name": "python3"
  },
  "language_info": {
   "codemirror_mode": {
    "name": "ipython",
    "version": 3
   },
   "file_extension": ".py",
   "mimetype": "text/x-python",
   "name": "python",
   "nbconvert_exporter": "python",
   "pygments_lexer": "ipython3",
   "version": "3.10.14"
  }
 },
 "nbformat": 4,
 "nbformat_minor": 4
}
