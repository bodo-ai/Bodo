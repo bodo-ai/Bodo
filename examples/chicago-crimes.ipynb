{
 "cells": [
  {
   "cell_type": "markdown",
   "metadata": {},
   "source": [
    "# Chicago Crimes\n",
    "This examples shows an exploratory data analysis (EDA)  of crimes in Chicago. \n",
    "\n",
    "Original example can be found [here](https://medium.com/@ahsanzafar222/chicago-crime-data-cleaning-and-eda-a744c687a291) and [here](https://www.kaggle.com/fahd09/eda-of-crime-in-chicago-2005-2016).\n"
   ]
  },
  {
   "cell_type": "code",
   "execution_count": 1,
   "metadata": {
    "tags": []
   },
   "outputs": [],
   "source": [
    "import pandas as pd\n",
    "import time\n",
    "import bodo"
   ]
  },
  {
   "cell_type": "markdown",
   "metadata": {},
   "source": [
    "## Load Crimes Data in Chicago"
   ]
  },
  {
   "cell_type": "code",
   "execution_count": 3,
   "metadata": {
    "tags": []
   },
   "outputs": [
    {
     "name": "stdout",
     "output_type": "stream",
     "text": [
      "Reading time:  24.456013999999982  (s)\n",
      "         Unnamed: 0     ID Case Number                    Date  \\\n",
      "1267592     4105311  20224    HV101396  01/02/2012 02:22:00 AM   \n",
      "1267593     4105388  20225    HV102221  01/02/2012 05:58:00 PM   \n",
      "1267594     4105463  20226    HV102145  01/02/2012 05:53:00 PM   \n",
      "1267595     4105549  20227    HV101433  01/02/2012 05:15:00 AM   \n",
      "1267596     4105635  20228    HV102986  01/03/2012 12:07:00 PM   \n",
      "\n",
      "                             Block  IUCR Primary Type          Description  \\\n",
      "1267592       030XX W LAWRENCE AVE  0110     HOMICIDE  FIRST DEGREE MURDER   \n",
      "1267593            024XX E 78TH ST  0110     HOMICIDE  FIRST DEGREE MURDER   \n",
      "1267594        066XX S WOLCOTT AVE  0110     HOMICIDE  FIRST DEGREE MURDER   \n",
      "1267595  107XX S COTTAGE GROVE AVE  0110     HOMICIDE  FIRST DEGREE MURDER   \n",
      "1267596         010XX N PULASKI RD  0110     HOMICIDE  FIRST DEGREE MURDER   \n",
      "\n",
      "        Location Description Arrest  ...  Ward  Community Area  FBI Code  \\\n",
      "1267592                 AUTO  False  ...  33.0            14.0       01A   \n",
      "1267593               STREET  False  ...   7.0            43.0       01A   \n",
      "1267594                HOUSE  False  ...  15.0            67.0       01A   \n",
      "1267595               STREET   True  ...   9.0            50.0       01A   \n",
      "1267596               STREET  False  ...  37.0            23.0       01A   \n",
      "\n",
      "         X Coordinate  Y Coordinate  Year              Updated On   Latitude  \\\n",
      "1267592     1155053.0     1931730.0  2012  08/17/2015 03:03:40 PM   41.96848   \n",
      "1267593     1194033.0     1853729.0  2012  08/17/2015 03:03:40 PM  41.753569   \n",
      "1267594     1164829.0     1860636.0  2012  08/17/2015 03:03:40 PM   41.77319   \n",
      "1267595     1182247.0     1833951.0  2012  08/17/2015 03:03:40 PM  41.699577   \n",
      "1267596     1149528.0     1906741.0  2012  08/17/2015 03:03:40 PM  41.900017   \n",
      "\n",
      "         Longitude                       Location  \n",
      "1267592  -87.70526  (41.968479866, -87.705259739)  \n",
      "1267593 -87.564503    (41.75356945, -87.56450286)  \n",
      "1267594  -87.67133  (41.773189519, -87.671329907)  \n",
      "1267595 -87.608304  (41.699577165, -87.608304224)  \n",
      "1267596 -87.726226  (41.900017263, -87.726225708)  \n",
      "\n",
      "[5 rows x 23 columns]\n"
     ]
    }
   ],
   "source": [
    "@bodo.jit(cache=True)\n",
    "def load_chicago_crimes():\n",
    "    t1 = time.time()\n",
    "    crimes = pd.read_csv('s3://bodo-example-data/chicago-crimes/Chicago_Crimes_2012_to_2017.csv')\n",
    "    crimes = crimes.sort_values(by=\"ID\")\n",
    "    print(\"Reading time: \", (time.time() - t1), \" (s)\")    \n",
    "    return crimes\n",
    "\n",
    "crimes1 = load_chicago_crimes()\n",
    "print(crimes1.head())"
   ]
  },
  {
   "cell_type": "markdown",
   "metadata": {},
   "source": [
    "## Preprocessing and Cleaning\n",
    " 1. Drop duplicated cases, filter unused columns, and add day of week and date of the crime.\n",
    " 2. Keep only the most frequent crime type categories.\n"
   ]
  },
  {
   "cell_type": "code",
   "execution_count": 7,
   "metadata": {
    "tags": []
   },
   "outputs": [
    {
     "name": "stdout",
     "output_type": "stream",
     "text": [
      "Data cleanup time:  1.39205800000002  (s)\n",
      "            ID                Date                      Block Primary Type  \\\n",
      "1267592  20224 2012-01-02 02:22:00       030XX W LAWRENCE AVE     HOMICIDE   \n",
      "1267593  20225 2012-01-02 17:58:00            024XX E 78TH ST     HOMICIDE   \n",
      "1267594  20226 2012-01-02 17:53:00        066XX S WOLCOTT AVE     HOMICIDE   \n",
      "1267595  20227 2012-01-02 05:15:00  107XX S COTTAGE GROVE AVE     HOMICIDE   \n",
      "1267596  20228 2012-01-03 12:07:00         010XX N PULASKI RD     HOMICIDE   \n",
      "\n",
      "                 Description Location Description Arrest Domestic  District  \\\n",
      "1267592  FIRST DEGREE MURDER                 AUTO  False    False      17.0   \n",
      "1267593  FIRST DEGREE MURDER               STREET  False    False       4.0   \n",
      "1267594  FIRST DEGREE MURDER                HOUSE  False    False       7.0   \n",
      "1267595  FIRST DEGREE MURDER               STREET   True    False       5.0   \n",
      "1267596  FIRST DEGREE MURDER               STREET  False    False      11.0   \n",
      "\n",
      "         X Coordinate  Y Coordinate   Latitude  Longitude  dow  date only  \n",
      "1267592     1155053.0     1931730.0   41.96848  -87.70526    0 2012-01-02  \n",
      "1267593     1194033.0     1853729.0  41.753569 -87.564503    0 2012-01-02  \n",
      "1267594     1164829.0     1860636.0   41.77319  -87.67133    0 2012-01-02  \n",
      "1267595     1182247.0     1833951.0  41.699577 -87.608304    0 2012-01-02  \n",
      "1267596     1149528.0     1906741.0  41.900017 -87.726226    1 2012-01-03  \n"
     ]
    }
   ],
   "source": [
    "@bodo.jit(cache=True)\n",
    "def data_cleanup(crimes):\n",
    "    t1 = time.time()    \n",
    "    crimes = crimes.drop_duplicates()    \n",
    "    crimes = crimes.drop(['Unnamed: 0', 'Case Number', 'IUCR','Updated On','Year', 'FBI Code', 'Beat','Ward','Community Area', 'Location'], axis=1)\n",
    "    crimes = crimes.assign(Date=pd.to_datetime(crimes.Date, format='%m/%d/%Y %I:%M:%S %p'))\n",
    "    crimes[\"dow\"] = crimes[\"Date\"].dt.dayofweek\n",
    "    crimes[\"date only\"] = crimes[\"Date\"].dt.floor('D')\n",
    "    crimes = crimes.sort_values(by=\"ID\")    \n",
    "    print(\"Data cleanup time: \", (time.time() - t1), \" (s)\")\n",
    "    return crimes\n",
    "\n",
    "crimes = data_cleanup(crimes1)\n",
    "print(crimes.head())"
   ]
  },
  {
   "cell_type": "code",
   "execution_count": 8,
   "metadata": {
    "tags": []
   },
   "outputs": [
    {
     "name": "stdout",
     "output_type": "stream",
     "text": [
      "Getting top crimes Time:  0.2646310000000085  (s)\n",
      "Index(['THEFT', 'BATTERY', 'CRIMINAL DAMAGE', 'NARCOTICS', 'ASSAULT',\n",
      "       'OTHER OFFENSE', 'BURGLARY', 'DECEPTIVE PRACTICE',\n",
      "       'MOTOR VEHICLE THEFT', 'ROBBERY'],\n",
      "      dtype='string', name='Primary Type')\n"
     ]
    }
   ],
   "source": [
    "@bodo.jit(cache=True)\n",
    "def get_top_crime_types(crimes):\n",
    "    t1 = time.time()\n",
    "    top_crime_types = crimes['Primary Type'].value_counts().index[0:10]\n",
    "    print(\"Getting top crimes Time: \", (time.time() - t1), \" (s)\")\n",
    "    return top_crime_types\n",
    "\n",
    "top_crime_types = get_top_crime_types(crimes)\n",
    "print(top_crime_types)"
   ]
  },
  {
   "cell_type": "code",
   "execution_count": 9,
   "metadata": {
    "tags": []
   },
   "outputs": [
    {
     "name": "stdout",
     "output_type": "stream",
     "text": [
      "Filtering crimes Time:  0.1708210000000463  (s)\n",
      "            ID                Date                                Block  \\\n",
      "77270  8421394 2012-01-01 00:15:00                  004XX E ILLINOIS ST   \n",
      "77272  8421398 2012-01-01 00:23:00                   033XX N HALSTED ST   \n",
      "77273  8421402 2012-01-01 00:30:00  092XX S DR MARTIN LUTHER KING JR DR   \n",
      "77274  8421404 2012-01-01 00:23:00                     002XX W 118TH ST   \n",
      "77276  8421408 2012-01-01 00:40:00                      008XX E 79TH ST   \n",
      "\n",
      "          Primary Type                     Description  \\\n",
      "77270          BATTERY                          SIMPLE   \n",
      "77272          ASSAULT  AGGRAVATED:KNIFE/CUTTING INSTR   \n",
      "77273          BATTERY   AGGRAVATED: OTHER DANG WEAPON   \n",
      "77274  CRIMINAL DAMAGE     TO CITY OF CHICAGO PROPERTY   \n",
      "77276        NARCOTICS    POSS: CANNABIS 30GMS OR LESS   \n",
      "\n",
      "                 Location Description Arrest Domestic  District  X Coordinate  \\\n",
      "77270                           OTHER  False    False      18.0     1179396.0   \n",
      "77272                   BAR OR TAVERN   True    False      19.0     1170335.0   \n",
      "77273                        SIDEWALK  False    False       6.0     1180537.0   \n",
      "77274                          STREET  False    False       5.0     1176631.0   \n",
      "77276  PARKING LOT/GARAGE(NON.RESID.)   True    False       6.0     1183364.0   \n",
      "\n",
      "       Y Coordinate   Latitude  Longitude  dow  date only  \n",
      "77270     1903711.0   41.89107 -87.616614    6 2012-01-01  \n",
      "77272     1922325.0  41.942351 -87.649345    6 2012-01-01  \n",
      "77273     1843779.0  41.726586 -87.614265    6 2012-01-01  \n",
      "77274     1826688.0  41.679774 -87.629085    6 2012-01-01  \n",
      "77276     1852811.0  41.751305 -87.603629    6 2012-01-01  \n"
     ]
    }
   ],
   "source": [
    "@bodo.jit(cache=True)\n",
    "def filter_crimes(crimes, top_crime_types):\n",
    "    t1 = time.time()\n",
    "    top_crimes = crimes[crimes['Primary Type'].isin(top_crime_types)]\n",
    "    print(\"Filtering crimes Time: \", (time.time() - t1), \" (s)\")\n",
    "    return top_crimes\n",
    "\n",
    "crimes = filter_crimes(crimes, top_crime_types)\n",
    "print(crimes.head())"
   ]
  },
  {
   "cell_type": "markdown",
   "metadata": {},
   "source": [
    "## Crime Analysis\n",
    "\n",
    "### Find Pattern of each crime over the years\n",
    "\n"
   ]
  },
  {
   "cell_type": "code",
   "execution_count": 10,
   "metadata": {
    "tags": []
   },
   "outputs": [
    {
     "name": "stdout",
     "output_type": "stream",
     "text": [
      "Computing Crime Pattern Time:  0.4228880000000572  (s)\n"
     ]
    },
    {
     "name": "stderr",
     "output_type": "stream",
     "text": [
      "/Users/ehsan/dev/Bodo/bodo/libs/distributed_api.py:878: FutureWarning: DatetimeArray.__init__ is deprecated and will be removed in a future version. Use pd.array instead.\n",
      "  return gatherv_impl_wrapper(data, allgather, warn_if_rep, root, comm_ptr)\n",
      "/Users/ehsan/dev/Bodo/bodo/libs/distributed_api.py:878: FutureWarning: DatetimeArray.__init__ is deprecated and will be removed in a future version. Use pd.array instead.\n",
      "  return gatherv_impl_wrapper(data, allgather, warn_if_rep, root, comm_ptr)\n",
      "/Users/ehsan/dev/Bodo/bodo/libs/distributed_api.py:878: FutureWarning: DatetimeArray.__init__ is deprecated and will be removed in a future version. Use pd.array instead.\n",
      "  return gatherv_impl_wrapper(data, allgather, warn_if_rep, root, comm_ptr)\n",
      "/Users/ehsan/dev/Bodo/bodo/libs/distributed_api.py:878: FutureWarning: DatetimeArray.__init__ is deprecated and will be removed in a future version. Use pd.array instead.\n",
      "  return gatherv_impl_wrapper(data, allgather, warn_if_rep, root, comm_ptr)\n",
      "/Users/ehsan/dev/Bodo/bodo/libs/distributed_api.py:878: FutureWarning: DatetimeArray.__init__ is deprecated and will be removed in a future version. Use pd.array instead.\n",
      "  return gatherv_impl_wrapper(data, allgather, warn_if_rep, root, comm_ptr)\n",
      "/Users/ehsan/dev/Bodo/bodo/libs/distributed_api.py:878: FutureWarning: DatetimeArray.__init__ is deprecated and will be removed in a future version. Use pd.array instead.\n",
      "  return gatherv_impl_wrapper(data, allgather, warn_if_rep, root, comm_ptr)\n",
      "/Users/ehsan/dev/Bodo/bodo/libs/distributed_api.py:878: FutureWarning: DatetimeArray.__init__ is deprecated and will be removed in a future version. Use pd.array instead.\n",
      "  return gatherv_impl_wrapper(data, allgather, warn_if_rep, root, comm_ptr)\n",
      "/Users/ehsan/dev/Bodo/bodo/libs/distributed_api.py:878: FutureWarning: DatetimeArray.__init__ is deprecated and will be removed in a future version. Use pd.array instead.\n",
      "  return gatherv_impl_wrapper(data, allgather, warn_if_rep, root, comm_ptr)\n"
     ]
    }
   ],
   "source": [
    "@bodo.jit(cache=True)\n",
    "def get_crimes_count_date(crimes):\n",
    "    t1 = time.time()\n",
    "    crimes_count_date = crimes.pivot_table(index='date only', columns='Primary Type', values='ID', aggfunc=\"count\")\n",
    "    print(\"Computing Crime Pattern Time: \", (time.time() - t1), \" (s)\")\n",
    "    return crimes_count_date\n",
    "\n",
    "crimes_count_date = get_crimes_count_date(crimes)"
   ]
  },
  {
   "cell_type": "code",
   "execution_count": 11,
   "metadata": {
    "tags": []
   },
   "outputs": [
    {
     "name": "stdout",
     "output_type": "stream",
     "text": [
      "Computing Crime Pattern Time:  0.4815959999999677  (s)\n",
      "            ROBBERY    THEFT  OTHER OFFENSE  ASSAULT  BATTERY  NARCOTICS  \\\n",
      "2017-01-18  11125.0  63588.0        17553.0  17849.0  50975.0    25565.0   \n",
      "2017-01-17  11205.0  63111.0        17120.0  17652.0  50433.0    23925.0   \n",
      "2017-01-16  10919.0  63563.0        17215.0  18165.0  51560.0    25033.0   \n",
      "2017-01-15  11208.0  63090.0        17115.0  17623.0  50457.0    23961.0   \n",
      "2017-01-14  10915.0  63573.0        17213.0  18164.0  51606.0    25101.0   \n",
      "\n",
      "            DECEPTIVE PRACTICE  CRIMINAL DAMAGE  MOTOR VEHICLE THEFT  BURGLARY  \n",
      "2017-01-18             15237.0          30372.0              11988.0   15874.0  \n",
      "2017-01-17             15439.0          29895.0              11640.0   15391.0  \n",
      "2017-01-16             15125.0          30568.0              11528.0   15784.0  \n",
      "2017-01-15             15431.0          29872.0              11660.0   15387.0  \n",
      "2017-01-14             15136.0          30586.0              11524.0   15776.0  \n"
     ]
    },
    {
     "name": "stderr",
     "output_type": "stream",
     "text": [
      "/Users/ehsan/dev/Bodo/bodo/libs/distributed_api.py:878: FutureWarning: DatetimeArray.__init__ is deprecated and will be removed in a future version. Use pd.array instead.\n",
      "  return gatherv_impl_wrapper(data, allgather, warn_if_rep, root, comm_ptr)\n",
      "/Users/ehsan/dev/Bodo/bodo/libs/distributed_api.py:878: FutureWarning: DatetimeArray.__init__ is deprecated and will be removed in a future version. Use pd.array instead.\n",
      "  return gatherv_impl_wrapper(data, allgather, warn_if_rep, root, comm_ptr)\n",
      "/Users/ehsan/dev/Bodo/bodo/libs/distributed_api.py:878: FutureWarning: DatetimeArray.__init__ is deprecated and will be removed in a future version. Use pd.array instead.\n",
      "  return gatherv_impl_wrapper(data, allgather, warn_if_rep, root, comm_ptr)\n",
      "/Users/ehsan/dev/Bodo/bodo/libs/distributed_api.py:878: FutureWarning: DatetimeArray.__init__ is deprecated and will be removed in a future version. Use pd.array instead.\n",
      "  return gatherv_impl_wrapper(data, allgather, warn_if_rep, root, comm_ptr)\n",
      "/Users/ehsan/dev/Bodo/bodo/libs/distributed_api.py:878: FutureWarning: DatetimeArray.__init__ is deprecated and will be removed in a future version. Use pd.array instead.\n",
      "  return gatherv_impl_wrapper(data, allgather, warn_if_rep, root, comm_ptr)\n",
      "/Users/ehsan/dev/Bodo/bodo/libs/distributed_api.py:878: FutureWarning: DatetimeArray.__init__ is deprecated and will be removed in a future version. Use pd.array instead.\n",
      "  return gatherv_impl_wrapper(data, allgather, warn_if_rep, root, comm_ptr)\n",
      "/Users/ehsan/dev/Bodo/bodo/libs/distributed_api.py:878: FutureWarning: DatetimeArray.__init__ is deprecated and will be removed in a future version. Use pd.array instead.\n",
      "  return gatherv_impl_wrapper(data, allgather, warn_if_rep, root, comm_ptr)\n",
      "/Users/ehsan/dev/Bodo/bodo/libs/distributed_api.py:878: FutureWarning: DatetimeArray.__init__ is deprecated and will be removed in a future version. Use pd.array instead.\n",
      "  return gatherv_impl_wrapper(data, allgather, warn_if_rep, root, comm_ptr)\n",
      "/Users/ehsan/dev/Bodo/bodo/libs/distributed_api.py:878: FutureWarning: DatetimeArray.__init__ is deprecated and will be removed in a future version. Use pd.array instead.\n",
      "  return gatherv_impl_wrapper(data, allgather, warn_if_rep, root, comm_ptr)\n",
      "/Users/ehsan/dev/Bodo/bodo/libs/distributed_api.py:878: FutureWarning: DatetimeArray.__init__ is deprecated and will be removed in a future version. Use pd.array instead.\n",
      "  return gatherv_impl_wrapper(data, allgather, warn_if_rep, root, comm_ptr)\n",
      "/Users/ehsan/dev/Bodo/bodo/libs/distributed_api.py:878: FutureWarning: DatetimeArray.__init__ is deprecated and will be removed in a future version. Use pd.array instead.\n",
      "  return gatherv_impl_wrapper(data, allgather, warn_if_rep, root, comm_ptr)\n",
      "/Users/ehsan/dev/Bodo/bodo/libs/distributed_api.py:878: FutureWarning: DatetimeArray.__init__ is deprecated and will be removed in a future version. Use pd.array instead.\n",
      "  return gatherv_impl_wrapper(data, allgather, warn_if_rep, root, comm_ptr)\n",
      "/Users/ehsan/dev/Bodo/bodo/libs/distributed_api.py:878: FutureWarning: DatetimeArray.__init__ is deprecated and will be removed in a future version. Use pd.array instead.\n",
      "  return gatherv_impl_wrapper(data, allgather, warn_if_rep, root, comm_ptr)\n",
      "/Users/ehsan/dev/Bodo/bodo/libs/distributed_api.py:878: FutureWarning: DatetimeArray.__init__ is deprecated and will be removed in a future version. Use pd.array instead.\n",
      "  return gatherv_impl_wrapper(data, allgather, warn_if_rep, root, comm_ptr)\n",
      "/Users/ehsan/dev/Bodo/bodo/libs/distributed_api.py:878: FutureWarning: DatetimeArray.__init__ is deprecated and will be removed in a future version. Use pd.array instead.\n",
      "  return gatherv_impl_wrapper(data, allgather, warn_if_rep, root, comm_ptr)\n",
      "/Users/ehsan/dev/Bodo/bodo/libs/distributed_api.py:878: FutureWarning: DatetimeArray.__init__ is deprecated and will be removed in a future version. Use pd.array instead.\n",
      "  return gatherv_impl_wrapper(data, allgather, warn_if_rep, root, comm_ptr)\n"
     ]
    }
   ],
   "source": [
    "@bodo.jit\n",
    "def get_crimes_type_date(crimes_count_date):\n",
    "    t1 = time.time()\n",
    "    crimes_count_date.index = pd.DatetimeIndex(crimes_count_date.index)\n",
    "    result = crimes_count_date.fillna(0).rolling(365).sum()\n",
    "    result = result.sort_index(ascending=False)\n",
    "    print(\"Computing Crime Pattern Time: \", (time.time() - t1), \" (s)\")\n",
    "    return result\n",
    "\n",
    "get_crimes_type_date = get_crimes_type_date(crimes_count_date)\n",
    "print(get_crimes_type_date.head())"
   ]
  },
  {
   "cell_type": "markdown",
   "metadata": {},
   "source": [
    "## A general view of crime records by time, type and location\n",
    "\n",
    "### Determining the pattern on daily basis"
   ]
  },
  {
   "cell_type": "code",
   "execution_count": 12,
   "metadata": {
    "tags": []
   },
   "outputs": [
    {
     "name": "stdout",
     "output_type": "stream",
     "text": [
      "Group by days Time:  0.011236000000053536  (s)\n",
      "   dow      ID\n",
      "4    0  190485\n",
      "1    1  189223\n",
      "2    2  191247\n",
      "3    3  189308\n",
      "0    4  200886\n"
     ]
    }
   ],
   "source": [
    "@bodo.jit(cache=True)\n",
    "def get_crimes_by_days(crimes):\n",
    "    t1 = time.time()\n",
    "    crimes_days = crimes.groupby('dow', as_index=False)['ID'].count().sort_values(by='dow')\n",
    "    print(\"Group by days Time: \", (time.time() - t1), \" (s)\")\n",
    "    return crimes_days\n",
    "    \n",
    "crimes_days = get_crimes_by_days(crimes)\n",
    "print(crimes_days.head())"
   ]
  },
  {
   "cell_type": "markdown",
   "metadata": {},
   "source": [
    "### Determining the pattern on monthly basis"
   ]
  },
  {
   "cell_type": "code",
   "execution_count": 13,
   "metadata": {
    "tags": []
   },
   "outputs": [
    {
     "name": "stdout",
     "output_type": "stream",
     "text": [
      "Group by days Time:  0.013942999999926542  (s)\n",
      "    month      ID\n",
      "6       1  113675\n",
      "7       2   90123\n",
      "8       3  109104\n",
      "3       4  108457\n",
      "10      5  119081\n"
     ]
    }
   ],
   "source": [
    "@bodo.jit(cache=True)\n",
    "def get_crimes_by_months(crimes):\n",
    "    t1 = time.time()\n",
    "    crimes['month'] = crimes[\"Date\"].dt.month\n",
    "    crimes_months = crimes.groupby('month', as_index=False)['ID'].count().sort_values(by='month')\n",
    "    print(\"Group by days Time: \", (time.time() - t1), \" (s)\")\n",
    "    return crimes_months\n",
    "    \n",
    "crimes_months = get_crimes_by_months(crimes)\n",
    "print(crimes_months.head())"
   ]
  },
  {
   "cell_type": "markdown",
   "metadata": {},
   "source": [
    "### Determining the pattern by crime type"
   ]
  },
  {
   "cell_type": "code",
   "execution_count": 14,
   "metadata": {
    "tags": []
   },
   "outputs": [
    {
     "name": "stdout",
     "output_type": "stream",
     "text": [
      "Group by days Time:  0.024769999999989523  (s)\n",
      "      Primary Type      ID\n",
      "1            THEFT  329460\n",
      "4          BATTERY  263700\n",
      "7  CRIMINAL DAMAGE  155455\n",
      "5        NARCOTICS  135240\n",
      "2          ASSAULT   91289\n"
     ]
    }
   ],
   "source": [
    "@bodo.jit(cache=True)\n",
    "def get_crimes_by_type(crimes):\n",
    "    t1 = time.time()\n",
    "    crimes_type = crimes.groupby('Primary Type', as_index=False)['ID'].count().sort_values(by='ID', ascending=False)\n",
    "    print(\"Group by days Time: \", (time.time() - t1), \" (s)\")\n",
    "    return crimes_type\n",
    "    \n",
    "crimes_type = get_crimes_by_type(crimes)\n",
    "print(crimes_type.head())"
   ]
  },
  {
   "cell_type": "markdown",
   "metadata": {},
   "source": [
    "### Determining the pattern by location"
   ]
  },
  {
   "cell_type": "code",
   "execution_count": 15,
   "metadata": {
    "tags": []
   },
   "outputs": [
    {
     "name": "stdout",
     "output_type": "stream",
     "text": [
      "Group by days Time:  0.4604380000000674  (s)\n",
      "   Location Description      ID\n",
      "31               STREET  306860\n",
      "39            RESIDENCE  216611\n",
      "32            APARTMENT  173373\n",
      "74             SIDEWALK  147414\n",
      "95                OTHER   51854\n"
     ]
    }
   ],
   "source": [
    "@bodo.jit(cache=True)\n",
    "def get_crimes_by_location(crimes):\n",
    "    t1 = time.time()\n",
    "    crimes_location = crimes.groupby('Location Description', as_index=False)['ID'].count().sort_values(by='ID', ascending=False)\n",
    "    print(\"Group by days Time: \", (time.time() - t1), \" (s)\")\n",
    "    return crimes_location\n",
    "    \n",
    "crimes_location = get_crimes_by_location(crimes)\n",
    "print(crimes_location.head())"
   ]
  },
  {
   "cell_type": "code",
   "execution_count": null,
   "metadata": {},
   "outputs": [],
   "source": []
  }
 ],
 "metadata": {
  "interpreter": {
   "hash": "16c8ad1c156570dbb9b8c59e261dba05f4270231d6ef51b3fb205099379bfe9f"
  },
  "kernelspec": {
   "display_name": "Python 3 (ipykernel)",
   "language": "python",
   "name": "python3"
  },
  "language_info": {
   "codemirror_mode": {
    "name": "ipython",
    "version": 3
   },
   "file_extension": ".py",
   "mimetype": "text/x-python",
   "name": "python",
   "nbconvert_exporter": "python",
   "pygments_lexer": "ipython3",
   "version": "3.12.7"
  }
 },
 "nbformat": 4,
 "nbformat_minor": 4
}
