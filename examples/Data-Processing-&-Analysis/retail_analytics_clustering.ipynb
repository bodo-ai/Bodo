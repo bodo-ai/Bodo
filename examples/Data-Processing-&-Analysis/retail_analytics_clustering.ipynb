{
 "cells": [
  {
   "cell_type": "markdown",
   "metadata": {},
   "source": [
    "## Retail analytics using TPCxBB Q26\n",
    "Retail analytics example from [TPCxBB](http://www.tpc.org/tpcx-bb): In this example, customers are clustered into book buddies/club groups based on their in store book purchasing histories using Bodo's Pandas support. For information on acquiring the dataset, see the [TPC website](https://www.tpc.org/tpc_documents_current_versions/current_specifications5.asp)."
   ]
  },
  {
   "cell_type": "code",
   "execution_count": 2,
   "metadata": {},
   "outputs": [],
   "source": [
    "import numpy as np\n",
    "import pandas as pd\n",
    "import bodo\n",
    "import time\n",
    "\n",
    "@bodo.jit\n",
    "def q26_bodo(ss_file, i_file, category, item_count):\n",
    "    t1 = time.time()\n",
    "    ss_dtype = {\"ss_item_sk\": np.int64, \"ss_customer_sk\": np.int64}\n",
    "    store_sales = pd.read_csv(\n",
    "        ss_file, sep=\"|\", usecols=[2, 3], names=ss_dtype.keys(), dtype=ss_dtype\n",
    "    )\n",
    "\n",
    "    i_dtype = {\"i_item_sk\": np.int64, \"i_class_id\": np.int32, \"i_category\": str}\n",
    "    item = pd.read_csv(\n",
    "        i_file, sep=\"|\", usecols=[0, 9, 12], names=i_dtype.keys(), dtype=i_dtype\n",
    "    )\n",
    "\n",
    "    item2 = item[item['i_category']==category]\n",
    "    sale_items = pd.merge(\n",
    "        store_sales, item2, left_on='ss_item_sk', right_on='i_item_sk')\n",
    "\n",
    "    count1 = sale_items.groupby('ss_customer_sk')['ss_item_sk'].count()\n",
    "    gp1 = sale_items.groupby('ss_customer_sk')['i_class_id']\n",
    "\n",
    "    def id1(x): return (x==1).sum()\n",
    "    def id2(x): return (x==2).sum()\n",
    "    def id3(x): return (x==3).sum()\n",
    "    def id4(x): return (x==4).sum()\n",
    "    def id5(x): return (x==5).sum()\n",
    "    def id6(x): return (x==6).sum()\n",
    "    def id7(x): return (x==7).sum()\n",
    "    def id8(x): return (x==8).sum()\n",
    "    def id9(x): return (x==9).sum()\n",
    "    def id10(x): return (x==10).sum()\n",
    "    def id11(x): return (x==11).sum()\n",
    "    def id12(x): return (x==12).sum()\n",
    "    def id13(x): return (x==13).sum()\n",
    "    def id14(x): return (x==14).sum()\n",
    "    def id15(x): return (x==15).sum()\n",
    "\n",
    "    customer_i_class = gp1.agg((id1, id2, id3, id4, id5, id6, id7, id8, id9,\n",
    "        id10, id11, id12, id13, id14, id15))\n",
    "\n",
    "    customer_i_class['ss_item_count'] = count1\n",
    "\n",
    "    customer_i_class = customer_i_class[\n",
    "        customer_i_class.ss_item_count > item_count]\n",
    "    res = customer_i_class.values.astype(np.float64).sum()\n",
    "    print(\"checksum\", res)\n",
    "    print(\"Exec time\", time.time()-t1)"
   ]
  },
  {
   "cell_type": "code",
   "execution_count": 3,
   "metadata": {},
   "outputs": [
    {
     "name": "stdout",
     "output_type": "stream",
     "text": [
      "checksum 0.0\n",
      "Exec time 2.42650599999979\n"
     ]
    }
   ],
   "source": [
    "store_sales_file = \"s3://bodo-example-data/tpcxbb/SF10/store_sales/store_sales_100.dat\"\n",
    "item_file = \"s3://bodo-example-data/tpcxbb/SF10/item/item_100.dat\"\n",
    "q26_i_category_IN = 'Books'\n",
    "q26_count_ss_item_sk = 5\n",
    "q26_bodo(store_sales_file, item_file, q26_i_category_IN, q26_count_ss_item_sk)"
   ]
  },
  {
   "cell_type": "code",
   "execution_count": null,
   "metadata": {},
   "outputs": [],
   "source": []
  }
 ],
 "metadata": {
  "kernelspec": {
   "display_name": "Python 3 (ipykernel)",
   "language": "python",
   "name": "python3"
  },
  "language_info": {
   "codemirror_mode": {
    "name": "ipython",
    "version": 3
   },
   "file_extension": ".py",
   "mimetype": "text/x-python",
   "name": "python",
   "nbconvert_exporter": "python",
   "pygments_lexer": "ipython3",
   "version": "3.12.7"
  }
 },
 "nbformat": 4,
 "nbformat_minor": 4
}
