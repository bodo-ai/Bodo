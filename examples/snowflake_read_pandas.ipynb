{
 "cells": [
  {
   "cell_type": "markdown",
   "id": "7d2fe5f5",
   "metadata": {},
   "source": [
    "This notebook demonstrates how Bodo can be used to read data stored in Snowflake and process it with Pandas. Data read and computations are done using familiar Pandas APIs which Bodo automatically optimizes and parallelizes under the hood.\n",
    "\n",
    "### Configuring credentials\n",
    "To run the following code, ensure that you have the following environment variables set with your Snowflake account:\n",
    "* `SF_USERNAME`\n",
    "* `SF_PASSWORD`\n",
    "* `SF_ACCOUNT`\n",
    "\n",
    "This example uses data from TPC-H. In your snowflake account, ensure that you can access the [TPC-H sample database](https://docs.snowflake.com/en/user-guide/sample-data-tpch)."
   ]
  },
  {
   "cell_type": "code",
   "execution_count": 7,
   "id": "938023b2",
   "metadata": {},
   "outputs": [],
   "source": [
    "import os\n",
    "username = os.environ[\"SF_USERNAME\"]\n",
    "password = os.environ[\"SF_PASSWORD\"]\n",
    "account = os.environ[\"SF_ACCOUNT\"]\n",
    "warehouse = \"TEST_WH\"\n",
    "database = \"SNOWFLAKE_SAMPLE_DATA\"\n",
    "schema = \"TPCH_SF1\""
   ]
  },
  {
   "cell_type": "markdown",
   "id": "a61de7c9-f05b-45d8-8c47-07e16b6890a0",
   "metadata": {},
   "source": [
    "## Predicate Pushdown\n",
    "\n",
    "Bodo optimizes Snowflake I/O automatically by applying I/O parallelization, predicate pushdown, and column pruning optimizations. In standard Python, the code below reads the entire table before filtering data and selecting relevant columns, which can result in slow I/O performance and potential out-of-memory errors. In contrast, Bodo leverages all available CPU cores to efficiently read only the filtered and selected columns, significantly accelerating I/O operations.\n",
    "\n",
    "Run the cell below and check Snowflake history to see filters applied to queries going to Snowflake."
   ]
  },
  {
   "cell_type": "code",
   "execution_count": 3,
   "id": "003cb2da-4bc0-4201-a6e0-d6594319b645",
   "metadata": {
    "tags": []
   },
   "outputs": [],
   "source": [
    "import bodo\n",
    "import pandas as pd\n",
    "\n",
    "@bodo.jit(cache=True)\n",
    "def load_lineitem(schema):\n",
    "    date = pd.Timestamp(\"1998-09-02\")\n",
    "    lineitem=pd.read_sql(f\"select * from {schema}.LINEITEM\", f\"snowflake://{username}:{password}@{account}/{database}/PUBLIC?warehouse={warehouse}\",)\n",
    "    lineitem=lineitem[lineitem.l_shipdate <= date]\n",
    "    lineitem=lineitem[[\"l_quantity\", \"l_shipdate\"]]\n",
    "    return lineitem\n",
    "\n",
    "lineitem=load_lineitem(schema)"
   ]
  },
  {
   "cell_type": "code",
   "execution_count": 4,
   "id": "b60cc3a2-d669-4526-b873-f432f0cfee74",
   "metadata": {
    "tags": []
   },
   "outputs": [
    {
     "data": {
      "text/plain": [
       "(5916591, 2)"
      ]
     },
     "execution_count": 4,
     "metadata": {},
     "output_type": "execute_result"
    }
   ],
   "source": [
    "lineitem.shape"
   ]
  },
  {
   "cell_type": "markdown",
   "id": "ac7f9c2a-df0b-419e-99f2-8ac3f98e73b3",
   "metadata": {},
   "source": [
    "## High Performance Connector\n",
    "\n",
    "Bodo's Snowflake connector loads the data in parallel all in Apache Arrow columnar format, leading to very high I/O performance and eliminating I/O bottlenecks for many programs. Here is another example including some computation:"
   ]
  },
  {
   "cell_type": "code",
   "execution_count": 5,
   "id": "e34b490c-2eda-4b09-ad21-bb8313c1fff0",
   "metadata": {
    "tags": []
   },
   "outputs": [
    {
     "name": "stdout",
     "output_type": "stream",
     "text": [
      "4\n",
      "Q01 Execution time (s):  9.224007999999912\n"
     ]
    }
   ],
   "source": [
    "import pandas as pd\n",
    "import bodo\n",
    "import time\n",
    "\n",
    "@bodo.jit(cache=True)\n",
    "def tpch_q01_filter(schema):\n",
    "    t1 = time.time()\n",
    "    lineitem=pd.read_sql(f\"select * from {schema}.LINEITEM\", f\"snowflake://{username}:{password}@{account}/{database}/PUBLIC?warehouse={warehouse}\",)\n",
    "    date = pd.Timestamp(\"1998-09-02\")\n",
    "    sel = lineitem.l_shipdate <= date\n",
    "    lineitem_filtered = lineitem[[\"l_quantity\", \"l_extendedprice\", \"l_discount\", \"l_tax\", \"l_returnflag\", \"l_linestatus\",  \"l_shipdate\", \"l_orderkey\"]]\n",
    "    lineitem_filtered = lineitem_filtered[sel]\n",
    "    lineitem_filtered[\"avg_qty\"] = lineitem_filtered.l_quantity\n",
    "    lineitem_filtered[\"avg_price\"] = lineitem_filtered.l_extendedprice\n",
    "    lineitem_filtered[\"disc_price\"] = lineitem_filtered.l_extendedprice * (1 - lineitem_filtered.l_discount)\n",
    "    lineitem_filtered[\"charge\"] = (\n",
    "        lineitem_filtered.l_extendedprice * (1 - lineitem_filtered.l_discount) * (1 + lineitem_filtered.l_tax)\n",
    "    )\n",
    "    gb = lineitem_filtered.groupby([\"l_returnflag\", \"l_linestatus\"], as_index=False)[\n",
    "        \"l_quantity\",\n",
    "        \"l_extendedprice\",\n",
    "        \"disc_price\",\n",
    "        \"charge\",\n",
    "        \"avg_qty\",\n",
    "        \"avg_price\",\n",
    "        \"l_discount\",\n",
    "        \"l_orderkey\",\n",
    "    ]\n",
    "    total = gb.agg(\n",
    "        {\n",
    "            \"l_quantity\": \"sum\",\n",
    "            \"l_extendedprice\": \"sum\",\n",
    "            \"disc_price\": \"sum\",\n",
    "            \"charge\": \"sum\",\n",
    "            \"avg_qty\": \"mean\",\n",
    "            \"avg_price\": \"mean\",\n",
    "            \"l_discount\": \"mean\",\n",
    "            \"l_orderkey\": \"count\",\n",
    "        }\n",
    "    )\n",
    "    total = total.sort_values([\"l_returnflag\", \"l_linestatus\"])\n",
    "    print(len(total))\n",
    "    print(\"Q01 Execution time (s): \", time.time() - t1)\n",
    "    return total\n",
    "\n",
    "q1_result=tpch_q01_filter(schema)"
   ]
  },
  {
   "cell_type": "code",
   "execution_count": 6,
   "id": "7fefe796",
   "metadata": {
    "tags": []
   },
   "outputs": [
    {
     "data": {
      "text/html": [
       "<div>\n",
       "<style scoped>\n",
       "    .dataframe tbody tr th:only-of-type {\n",
       "        vertical-align: middle;\n",
       "    }\n",
       "\n",
       "    .dataframe tbody tr th {\n",
       "        vertical-align: top;\n",
       "    }\n",
       "\n",
       "    .dataframe thead th {\n",
       "        text-align: right;\n",
       "    }\n",
       "</style>\n",
       "<table border=\"1\" class=\"dataframe\">\n",
       "  <thead>\n",
       "    <tr style=\"text-align: right;\">\n",
       "      <th></th>\n",
       "      <th>l_returnflag</th>\n",
       "      <th>l_linestatus</th>\n",
       "      <th>l_quantity</th>\n",
       "      <th>l_extendedprice</th>\n",
       "      <th>disc_price</th>\n",
       "      <th>charge</th>\n",
       "      <th>avg_qty</th>\n",
       "      <th>avg_price</th>\n",
       "      <th>l_discount</th>\n",
       "      <th>l_orderkey</th>\n",
       "    </tr>\n",
       "  </thead>\n",
       "  <tbody>\n",
       "    <tr>\n",
       "      <th>3</th>\n",
       "      <td>A</td>\n",
       "      <td>F</td>\n",
       "      <td>37734107.0</td>\n",
       "      <td>56586554400.729813</td>\n",
       "      <td>53758257134.870026</td>\n",
       "      <td>55909065222.82782</td>\n",
       "      <td>25.522006</td>\n",
       "      <td>38273.129735</td>\n",
       "      <td>0.049985</td>\n",
       "      <td>1478493</td>\n",
       "    </tr>\n",
       "    <tr>\n",
       "      <th>0</th>\n",
       "      <td>N</td>\n",
       "      <td>F</td>\n",
       "      <td>991417.0</td>\n",
       "      <td>1487504710.38</td>\n",
       "      <td>1413082168.0541</td>\n",
       "      <td>1469649223.194375</td>\n",
       "      <td>25.516472</td>\n",
       "      <td>38284.467761</td>\n",
       "      <td>0.050093</td>\n",
       "      <td>38854</td>\n",
       "    </tr>\n",
       "    <tr>\n",
       "      <th>1</th>\n",
       "      <td>N</td>\n",
       "      <td>O</td>\n",
       "      <td>74476040.0</td>\n",
       "      <td>111701729697.740143</td>\n",
       "      <td>106118230307.605103</td>\n",
       "      <td>110367043872.497116</td>\n",
       "      <td>25.502227</td>\n",
       "      <td>38249.117989</td>\n",
       "      <td>0.049997</td>\n",
       "      <td>2920374</td>\n",
       "    </tr>\n",
       "    <tr>\n",
       "      <th>2</th>\n",
       "      <td>R</td>\n",
       "      <td>F</td>\n",
       "      <td>37719753.0</td>\n",
       "      <td>56568041380.89975</td>\n",
       "      <td>53741292684.604263</td>\n",
       "      <td>55889619119.831505</td>\n",
       "      <td>25.505794</td>\n",
       "      <td>38250.854626</td>\n",
       "      <td>0.050009</td>\n",
       "      <td>1478870</td>\n",
       "    </tr>\n",
       "  </tbody>\n",
       "</table>\n",
       "</div>"
      ],
      "text/plain": [
       "  l_returnflag l_linestatus  l_quantity      l_extendedprice  \\\n",
       "3            A            F  37734107.0   56586554400.729813   \n",
       "0            N            F    991417.0        1487504710.38   \n",
       "1            N            O  74476040.0  111701729697.740143   \n",
       "2            R            F  37719753.0    56568041380.89975   \n",
       "\n",
       "            disc_price               charge    avg_qty     avg_price  \\\n",
       "3   53758257134.870026    55909065222.82782  25.522006  38273.129735   \n",
       "0      1413082168.0541    1469649223.194375  25.516472  38284.467761   \n",
       "1  106118230307.605103  110367043872.497116  25.502227  38249.117989   \n",
       "2   53741292684.604263   55889619119.831505  25.505794  38250.854626   \n",
       "\n",
       "   l_discount  l_orderkey  \n",
       "3    0.049985     1478493  \n",
       "0    0.050093       38854  \n",
       "1    0.049997     2920374  \n",
       "2    0.050009     1478870  "
      ]
     },
     "execution_count": 6,
     "metadata": {},
     "output_type": "execute_result"
    }
   ],
   "source": [
    "q1_result"
   ]
  },
  {
   "cell_type": "markdown",
   "id": "3a434b88-adbf-4b08-93b9-d70c677b3e1d",
   "metadata": {},
   "source": [
    "BodoSQL can be used for reading from Snowflake as well:"
   ]
  },
  {
   "cell_type": "code",
   "execution_count": 8,
   "id": "351171f6-56f3-41d4-ac42-610cbc339aa5",
   "metadata": {},
   "outputs": [
    {
     "name": "stdout",
     "output_type": "stream",
     "text": [
      "Q01 Execution time (s):  7.013795999999729\n"
     ]
    }
   ],
   "source": [
    "import time\n",
    "import bodo\n",
    "import bodosql\n",
    "\n",
    "@bodo.jit(cache=False)\n",
    "def tpch_q01_sql(schema, conn_str):\n",
    "    t1 = time.time()\n",
    "    bc = bodosql.BodoSQLContext(\n",
    "        {\n",
    "            \"LINEITEM\": bodosql.TablePath(\n",
    "                f\"{schema}.lineitem\", \"sql\", conn_str=conn_str, reorder_io=True\n",
    "            ),\n",
    "        })\n",
    "    total = bc.sql(\n",
    "        \"\"\"select\n",
    "                l_returnflag,\n",
    "                l_linestatus,\n",
    "                sum(l_quantity) as sum_qty,\n",
    "                sum(l_extendedprice) as sum_base_price,\n",
    "                sum(l_extendedprice * (1 - l_discount)) as sum_disc_price,\n",
    "                sum(l_extendedprice * (1 - l_discount) * (1 + l_tax)) as sum_charge,\n",
    "                avg(l_quantity) as avg_qty,\n",
    "                avg(l_extendedprice) as avg_price,\n",
    "                avg(l_discount) as avg_disc,\n",
    "                count(*) as count_order\n",
    "            from\n",
    "                lineitem\n",
    "            where\n",
    "                l_shipdate <= date '1998-12-01' - interval '90' day\n",
    "            group by\n",
    "                l_returnflag,\n",
    "                l_linestatus\n",
    "            order by\n",
    "                l_returnflag,\n",
    "                l_linestatus\"\"\"\n",
    "    )\n",
    "\n",
    "    print(\"Q01 Execution time (s): \", time.time() - t1)\n",
    "    return total\n",
    "\n",
    "q1_result = tpch_q01_sql(schema,f\"snowflake://{username}:{password}@{account}/{database}/PUBLIC?warehouse={warehouse}\")"
   ]
  },
  {
   "cell_type": "code",
   "execution_count": 9,
   "id": "f18b0dd3-b3d0-4ec8-8174-27a1f96a7d4f",
   "metadata": {},
   "outputs": [
    {
     "data": {
      "text/html": [
       "<div>\n",
       "<style scoped>\n",
       "    .dataframe tbody tr th:only-of-type {\n",
       "        vertical-align: middle;\n",
       "    }\n",
       "\n",
       "    .dataframe tbody tr th {\n",
       "        vertical-align: top;\n",
       "    }\n",
       "\n",
       "    .dataframe thead th {\n",
       "        text-align: right;\n",
       "    }\n",
       "</style>\n",
       "<table border=\"1\" class=\"dataframe\">\n",
       "  <thead>\n",
       "    <tr style=\"text-align: right;\">\n",
       "      <th></th>\n",
       "      <th>L_RETURNFLAG</th>\n",
       "      <th>L_LINESTATUS</th>\n",
       "      <th>SUM_QTY</th>\n",
       "      <th>SUM_BASE_PRICE</th>\n",
       "      <th>SUM_DISC_PRICE</th>\n",
       "      <th>SUM_CHARGE</th>\n",
       "      <th>AVG_QTY</th>\n",
       "      <th>AVG_PRICE</th>\n",
       "      <th>AVG_DISC</th>\n",
       "      <th>COUNT_ORDER</th>\n",
       "    </tr>\n",
       "  </thead>\n",
       "  <tbody>\n",
       "    <tr>\n",
       "      <th>0</th>\n",
       "      <td>A</td>\n",
       "      <td>F</td>\n",
       "      <td>37734107.0</td>\n",
       "      <td>56586554400.729996</td>\n",
       "      <td>53758257134.869995</td>\n",
       "      <td>55909065222.82769</td>\n",
       "      <td>25.522006</td>\n",
       "      <td>38273.129735</td>\n",
       "      <td>0.049985</td>\n",
       "      <td>1478493</td>\n",
       "    </tr>\n",
       "    <tr>\n",
       "      <th>1</th>\n",
       "      <td>N</td>\n",
       "      <td>F</td>\n",
       "      <td>991417.0</td>\n",
       "      <td>1487504710.38</td>\n",
       "      <td>1413082168.0541</td>\n",
       "      <td>1469649223.194376</td>\n",
       "      <td>25.516472</td>\n",
       "      <td>38284.467761</td>\n",
       "      <td>0.050093</td>\n",
       "      <td>38854</td>\n",
       "    </tr>\n",
       "    <tr>\n",
       "      <th>2</th>\n",
       "      <td>N</td>\n",
       "      <td>O</td>\n",
       "      <td>74476040.0</td>\n",
       "      <td>111701729697.740005</td>\n",
       "      <td>106118230307.605576</td>\n",
       "      <td>110367043872.496994</td>\n",
       "      <td>25.502227</td>\n",
       "      <td>38249.117989</td>\n",
       "      <td>0.049997</td>\n",
       "      <td>2920374</td>\n",
       "    </tr>\n",
       "    <tr>\n",
       "      <th>3</th>\n",
       "      <td>R</td>\n",
       "      <td>F</td>\n",
       "      <td>37719753.0</td>\n",
       "      <td>56568041380.899994</td>\n",
       "      <td>53741292684.603981</td>\n",
       "      <td>55889619119.83194</td>\n",
       "      <td>25.505794</td>\n",
       "      <td>38250.854626</td>\n",
       "      <td>0.050009</td>\n",
       "      <td>1478870</td>\n",
       "    </tr>\n",
       "  </tbody>\n",
       "</table>\n",
       "</div>"
      ],
      "text/plain": [
       "  L_RETURNFLAG L_LINESTATUS     SUM_QTY       SUM_BASE_PRICE  \\\n",
       "0            A            F  37734107.0   56586554400.729996   \n",
       "1            N            F    991417.0        1487504710.38   \n",
       "2            N            O  74476040.0  111701729697.740005   \n",
       "3            R            F  37719753.0   56568041380.899994   \n",
       "\n",
       "        SUM_DISC_PRICE           SUM_CHARGE    AVG_QTY     AVG_PRICE  \\\n",
       "0   53758257134.869995    55909065222.82769  25.522006  38273.129735   \n",
       "1      1413082168.0541    1469649223.194376  25.516472  38284.467761   \n",
       "2  106118230307.605576  110367043872.496994  25.502227  38249.117989   \n",
       "3   53741292684.603981    55889619119.83194  25.505794  38250.854626   \n",
       "\n",
       "   AVG_DISC  COUNT_ORDER  \n",
       "0  0.049985      1478493  \n",
       "1  0.050093        38854  \n",
       "2  0.049997      2920374  \n",
       "3  0.050009      1478870  "
      ]
     },
     "execution_count": 9,
     "metadata": {},
     "output_type": "execute_result"
    }
   ],
   "source": [
    "q1_result"
   ]
  },
  {
   "cell_type": "code",
   "execution_count": null,
   "id": "09fde1d7-8a9d-4d93-89c1-d1a9e0f9167d",
   "metadata": {},
   "outputs": [],
   "source": []
  }
 ],
 "metadata": {
  "kernelspec": {
   "display_name": "Python 3 (ipykernel)",
   "language": "python",
   "name": "python3"
  },
  "language_info": {
   "codemirror_mode": {
    "name": "ipython",
    "version": 3
   },
   "file_extension": ".py",
   "mimetype": "text/x-python",
   "name": "python",
   "nbconvert_exporter": "python",
   "pygments_lexer": "ipython3",
   "version": "3.12.7"
  }
 },
 "nbformat": 4,
 "nbformat_minor": 5
}
