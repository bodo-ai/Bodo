{
 "cells": [
  {
   "cell_type": "markdown",
   "metadata": {},
   "source": [
    "## Environment Setup\n",
    "Connecting to backend execution cores:"
   ]
  },
  {
   "cell_type": "code",
   "execution_count": 5,
   "metadata": {},
   "outputs": [],
   "source": [
    "import ipyparallel as ipp\n",
    "c = ipp.Client(profile='mpi')\n",
    "view = c[:]\n",
    "view.activate()"
   ]
  },
  {
   "cell_type": "markdown",
   "metadata": {},
   "source": [
    "## Intraday Mean Reversion Backtesting Example Code\n",
    "Backtesting trading strategies is an important financial application. Here we use an Intraday Mean Reversion [online example](http://www.pythonforfinance.net/2017/02/20/intraday-stock-mean-reversion-trading-backtest-in-python/). The dataset is public stock data available from online APIs (e.g. Yahoo)."
   ]
  },
  {
   "cell_type": "code",
   "execution_count": 9,
   "metadata": {},
   "outputs": [
    {
     "name": "stdout",
     "output_type": "stream",
     "text": [
      "[stdout:0] \n",
      "0.0186685488078326\n",
      "execution time: 0.2837543950881809\n"
     ]
    }
   ],
   "source": [
    "%%px --block\n",
    "import pandas as pd\n",
    "import numpy as np\n",
    "import h5py\n",
    "import time\n",
    "import bodo\n",
    "from bodo import prange\n",
    "\n",
    "\n",
    "@bodo.jit(locals={'s_open': bodo.float64[:], 's_high': bodo.float64[:],\n",
    "        's_low': bodo.float64[:], 's_close': bodo.float64[:],\n",
    "        's_vol': bodo.float64[:]})\n",
    "def intraday_mean_revert():\n",
    "    file_name = \"/Users/ehsan/dev/sw/data/stock_data_all_google.hdf5\"\n",
    "    f = h5py.File(file_name, \"r\")\n",
    "    sym_list = list(f.keys())\n",
    "    nsyms = len(sym_list)\n",
    "    max_num_days = 4000\n",
    "    all_res = np.zeros(max_num_days)\n",
    "\n",
    "    t1 = time.time()\n",
    "    for i in prange(nsyms):\n",
    "        symbol = sym_list[i]\n",
    "\n",
    "        s_open = f[symbol+'/Open'][:]\n",
    "        s_high = f[symbol+'/High'][:]\n",
    "        s_low = f[symbol+'/Low'][:]\n",
    "        s_close = f[symbol+'/Close'][:]\n",
    "        s_vol = f[symbol+'/Volume'][:]\n",
    "        df = pd.DataFrame({'Open': s_open, 'High': s_high, 'Low': s_low,\n",
    "                            'Close': s_close, 'Volume': s_vol,})\n",
    "\n",
    "        #create column to hold our 90 day rolling standard deviation\n",
    "        df['Stdev'] = df['Close'].rolling(window=90).std()\n",
    "\n",
    "        #create a column to hold our 20 day moving average\n",
    "        df['Moving Average'] = df['Close'].rolling(window=20).mean()\n",
    "\n",
    "        #create a column which holds a TRUE value if the gap down from previous day's low to next\n",
    "        #day's open is larger than the 90 day rolling standard deviation\n",
    "        df['Criteria1'] = (df['Open'] - df['Low'].shift(1)) < -df['Stdev']\n",
    "\n",
    "        #create a column which holds a TRUE value if the opening price of the stock is above the 20 day moving average\n",
    "        df['Criteria2'] = df['Open'] > df['Moving Average']\n",
    "\n",
    "        #create a column that holds a TRUE value if both above criteria are also TRUE\n",
    "        df['BUY'] = df['Criteria1'] & df['Criteria2']\n",
    "\n",
    "        #calculate daily % return series for stock\n",
    "        df['Pct Change'] = (df['Close'] - df['Open']) / df['Open']\n",
    "\n",
    "        #create a strategy return series by using the daily stock returns where the trade criteria above are met\n",
    "        df['Rets'] = df['Pct Change'][df['BUY'] == True]\n",
    "\n",
    "        n_days = len(df['Rets'])\n",
    "        res = np.zeros(max_num_days)\n",
    "        if n_days:\n",
    "            res[-n_days:] = df['Rets'].fillna(0).values\n",
    "        all_res += res\n",
    "\n",
    "    f.close()\n",
    "    print(all_res.mean())\n",
    "    print(\"execution time:\", time.time()-t1)\n",
    "    return all_res\n",
    "\n",
    "all_res = intraday_mean_revert()"
   ]
  },
  {
   "cell_type": "markdown",
   "metadata": {},
   "source": [
    "This computation takes 33.9 seconds on Python but only 0.56 seconds on Bodo (60x speedup on 8 cores)"
   ]
  },
  {
   "cell_type": "code",
   "execution_count": 4,
   "metadata": {},
   "outputs": [
    {
     "data": {
      "text/plain": [
       "<matplotlib.axes._subplots.AxesSubplot at 0x11eedc550>"
      ]
     },
     "execution_count": 4,
     "metadata": {},
     "output_type": "execute_result"
    },
    {
     "data": {
      "image/png": "[encoded data removed]",
      "text/plain": [
       "<Figure size 432x288 with 1 Axes>"
      ]
     },
     "metadata": {
      "needs_background": "light"
     },
     "output_type": "display_data"
    }
   ],
   "source": [
    "%matplotlib inline\n",
    "import matplotlib.pyplot as plt\n",
    "results = view['all_res'][0]\n",
    "pd.Series(results).cumsum().plot()"
   ]
  },
  {
   "cell_type": "code",
   "execution_count": null,
   "metadata": {},
   "outputs": [],
   "source": []
  }
 ],
 "metadata": {
  "kernelspec": {
   "display_name": "Python 3",
   "language": "python",
   "name": "python3"
  },
  "language_info": {
   "codemirror_mode": {
    "name": "ipython",
    "version": 3
   },
   "file_extension": ".py",
   "mimetype": "text/x-python",
   "name": "python",
   "nbconvert_exporter": "python",
   "pygments_lexer": "ipython3",
   "version": "3.7.3"
  }
 },
 "nbformat": 4,
 "nbformat_minor": 2
}
