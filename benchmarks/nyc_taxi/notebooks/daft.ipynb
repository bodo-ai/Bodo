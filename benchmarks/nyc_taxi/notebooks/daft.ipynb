{
 "cells": [
  {
   "cell_type": "code",
   "execution_count": 11,
   "metadata": {},
   "outputs": [],
   "source": [
    "import os\n",
    "import time\n",
    "\n",
    "import boto3\n",
    "import daft\n",
    "from botocore import UNSIGNED\n",
    "from botocore.config import Config\n",
    "from daft import col"
   ]
  },
  {
   "cell_type": "markdown",
   "metadata": {},
   "source": [
    "### Setup \n",
    "\n",
    "Download the datasets from the public S3 bucket."
   ]
  },
  {
   "cell_type": "code",
   "execution_count": 2,
   "metadata": {},
   "outputs": [],
   "source": [
    "central_park_weather_path_s3 = \"nyc-taxi/central_park_weather.csv\"\n",
    "bucket_name = \"bodo-example-data\"\n",
    "hvfhv_5M_path_s3 = \"nyc-taxi/fhvhv_5M_rows.pq\""
   ]
  },
  {
   "cell_type": "code",
   "execution_count": 3,
   "metadata": {},
   "outputs": [],
   "source": [
    "def download_data_s3(path_to_s3: str, local_data_dir: str = \"data\") -> str:\n",
    "    \"\"\"Download the dataset from S3 if already exists, skip download.\"\"\"\n",
    "    file_name = path_to_s3.split(\"/\", -1)[1]\n",
    "    local_path = os.path.join(local_data_dir, file_name)\n",
    "\n",
    "    if os.path.exists(local_path):\n",
    "        return local_path\n",
    "\n",
    "    print(\"Downloading dataset from S3...\")\n",
    "\n",
    "    s3 = boto3.client(\"s3\", config=Config(signature_version=UNSIGNED))\n",
    "\n",
    "    if not os.path.exists(local_data_dir):\n",
    "        os.mkdir(local_data_dir)\n",
    "\n",
    "    s3.download_file(bucket_name, path_to_s3, local_path)\n",
    "    return local_path"
   ]
  },
  {
   "cell_type": "code",
   "execution_count": 4,
   "metadata": {},
   "outputs": [],
   "source": [
    "weather_path = download_data_s3(central_park_weather_path_s3)\n",
    "hvfhv_5M_path = download_data_s3(hvfhv_5M_path_s3)"
   ]
  },
  {
   "cell_type": "code",
   "execution_count": 12,
   "metadata": {},
   "outputs": [],
   "source": [
    "def get_monthly_travels_weather(weather_dataset_path, hvfhv_dataset_path):\n",
    "    start = time.time()\n",
    "\n",
    "    # read data, rename some columns\n",
    "    central_park_weather_observations = daft.read_csv(weather_dataset_path)\n",
    "    central_park_weather_observations = (\n",
    "        central_park_weather_observations.with_columns_renamed(\n",
    "            {\"DATE\": \"date\", \"PRCP\": \"precipitation\"}\n",
    "        )\n",
    "    )\n",
    "    hvfhv_dataset = daft.read_parquet(hvfhv_dataset_path)\n",
    "\n",
    "    # datetime manipulation\n",
    "    central_park_weather_observations = central_park_weather_observations.with_column(\n",
    "        \"date\",\n",
    "        central_park_weather_observations[\"date\"].dt.date(),\n",
    "    )\n",
    "    hvfhv_dataset = hvfhv_dataset.with_columns(\n",
    "        {\n",
    "            \"date\": col(\"pickup_datetime\").dt.date(),\n",
    "            \"month\": col(\"pickup_datetime\").dt.month(),\n",
    "            \"hour\": col(\"pickup_datetime\").dt.hour(),\n",
    "            \"weekday\": col(\"pickup_datetime\").dt.day_of_week().is_in([0, 1, 2, 3, 4]),\n",
    "        }\n",
    "    )\n",
    "\n",
    "    # combine NYC taxi dataset with weather observations\n",
    "    monthly_trips_weather = hvfhv_dataset.join(\n",
    "        central_park_weather_observations, on=\"date\", how=\"inner\"\n",
    "    )\n",
    "\n",
    "    monthly_trips_weather = monthly_trips_weather.with_column(\n",
    "        \"date_with_precipitation\", col(\"precipitation\") > 0.1\n",
    "    )\n",
    "\n",
    "    def get_time_bucket(t):\n",
    "        bucket = \"other\"\n",
    "        if t in (8, 9, 10):\n",
    "            bucket = \"morning\"\n",
    "        elif t in (11, 12, 13, 14, 15):\n",
    "            bucket = \"midday\"\n",
    "        elif t in (16, 17, 18):\n",
    "            bucket = \"afternoon\"\n",
    "        elif t in (19, 20, 21):\n",
    "            bucket = \"evening\"\n",
    "        return bucket\n",
    "\n",
    "    monthly_trips_weather = monthly_trips_weather.with_column(\n",
    "        \"time_bucket\",\n",
    "        col(\"hour\").apply(get_time_bucket, return_dtype=daft.DataType.string()),\n",
    "    )\n",
    "\n",
    "    monthly_trips_weather = monthly_trips_weather.groupby(\n",
    "        [\n",
    "            \"PULocationID\",\n",
    "            \"DOLocationID\",\n",
    "            \"month\",\n",
    "            \"weekday\",\n",
    "            \"date_with_precipitation\",\n",
    "            \"time_bucket\",\n",
    "        ]\n",
    "    ).agg(col(\"hvfhs_license_num\").count(), col(\"trip_miles\").mean())\n",
    "\n",
    "    monthly_trips_weather = monthly_trips_weather.sort(\n",
    "        by=[\n",
    "            \"PULocationID\",\n",
    "            \"DOLocationID\",\n",
    "            \"month\",\n",
    "            \"weekday\",\n",
    "            \"date_with_precipitation\",\n",
    "            \"time_bucket\",\n",
    "        ]\n",
    "    )\n",
    "\n",
    "    monthly_trips_weather = monthly_trips_weather.with_columns_renamed(\n",
    "        {\n",
    "            \"hvfhs_license_num\": \"trips\",\n",
    "            \"trip_miles\": \"avg_distance\",\n",
    "        },\n",
    "    )\n",
    "    monthly_trips_weather = monthly_trips_weather.collect()\n",
    "\n",
    "    monthly_trips_weather.write_parquet(\n",
    "        \"daft_monthly_trips_weather.pq\", write_mode=\"overwrite\"\n",
    "    )\n",
    "\n",
    "    end = time.time()\n",
    "    print(\"Total E2E time:\", (end - start))\n",
    "\n",
    "    return monthly_trips_weather"
   ]
  },
  {
   "cell_type": "code",
   "execution_count": null,
   "metadata": {},
   "outputs": [],
   "source": [
    "result = get_monthly_travels_weather(weather_path, hvfhv_5M_path)\n",
    "result.to_pandas().head(5)"
   ]
  },
  {
   "cell_type": "markdown",
   "metadata": {},
   "source": [
    "### Running on a Larger Dataset\n",
    "\n"
   ]
  },
  {
   "cell_type": "code",
   "execution_count": 13,
   "metadata": {},
   "outputs": [],
   "source": [
    "hvfhv_20M_path_s3 = \"nyc-taxi/fhvhv_tripdata/fhvhv_tripdata_2019-02.parquet\"\n",
    "hvfhv_20M_path = download_data_s3(hvfhv_20M_path_s3)"
   ]
  },
  {
   "cell_type": "code",
   "execution_count": null,
   "metadata": {},
   "outputs": [],
   "source": [
    "result = get_monthly_travels_weather(weather_path, hvfhv_20M_path)\n",
    "result.to_pandas().head(5)"
   ]
  }
 ],
 "metadata": {
  "kernelspec": {
   "display_name": ".venv",
   "language": "python",
   "name": "python3"
  },
  "language_info": {
   "codemirror_mode": {
    "name": "ipython",
    "version": 3
   },
   "file_extension": ".py",
   "mimetype": "text/x-python",
   "name": "python",
   "nbconvert_exporter": "python",
   "pygments_lexer": "ipython3",
   "version": "3.12.9"
  }
 },
 "nbformat": 4,
 "nbformat_minor": 2
}
