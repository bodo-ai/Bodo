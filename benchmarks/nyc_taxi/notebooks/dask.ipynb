{
 "cells": [
  {
   "cell_type": "code",
   "execution_count": 1,
   "metadata": {},
   "outputs": [],
   "source": [
    "import os\n",
    "import time\n",
    "\n",
    "import boto3\n",
    "import dask.dataframe as dd\n",
    "from botocore import UNSIGNED\n",
    "from botocore.config import Config\n",
    "from dask.distributed import Client"
   ]
  },
  {
   "cell_type": "markdown",
   "metadata": {},
   "source": [
    "### Setup \n",
    "\n",
    "Download the datasets from the public S3 bucket."
   ]
  },
  {
   "cell_type": "code",
   "execution_count": 2,
   "metadata": {},
   "outputs": [],
   "source": [
    "central_park_weather_path_s3 = \"nyc-taxi/central_park_weather.csv\"\n",
    "bucket_name = \"bodo-example-data\"\n",
    "hvfhv_5M_path_s3 = \"nyc-taxi/fhvhv_5M_rows.pq\""
   ]
  },
  {
   "cell_type": "code",
   "execution_count": 3,
   "metadata": {},
   "outputs": [],
   "source": [
    "def download_data_s3(path_to_s3: str, local_data_dir: str = \"data\") -> str:\n",
    "    \"\"\"Download the dataset from S3 if already exists, skip download.\"\"\"\n",
    "    file_name = path_to_s3.split(\"/\")[-1]\n",
    "    local_path = os.path.join(local_data_dir, file_name)\n",
    "\n",
    "    if os.path.exists(local_path):\n",
    "        return local_path\n",
    "\n",
    "    print(\"Downloading dataset from S3...\")\n",
    "\n",
    "    s3 = boto3.client(\"s3\", config=Config(signature_version=UNSIGNED))\n",
    "\n",
    "    if not os.path.exists(local_data_dir):\n",
    "        os.mkdir(local_data_dir)\n",
    "\n",
    "    s3.download_file(bucket_name, path_to_s3, local_path)\n",
    "    return local_path"
   ]
  },
  {
   "cell_type": "code",
   "execution_count": 4,
   "metadata": {},
   "outputs": [],
   "source": [
    "weather_path = download_data_s3(central_park_weather_path_s3)\n",
    "hvfhv_5M_path = download_data_s3(hvfhv_5M_path_s3)"
   ]
  },
  {
   "cell_type": "code",
   "execution_count": 5,
   "metadata": {},
   "outputs": [],
   "source": [
    "def get_monthly_travels_weather(weather_dataset, hvfhv_dataset, storage_options=None):\n",
    "    start = time.time()\n",
    "    central_park_weather_observations = dd.read_csv(\n",
    "        weather_dataset, parse_dates=[\"DATE\"], storage_options=storage_options\n",
    "    )\n",
    "    central_park_weather_observations = central_park_weather_observations.rename(\n",
    "        columns={\"DATE\": \"date\", \"PRCP\": \"precipitation\"}\n",
    "    )\n",
    "\n",
    "    fhvhv_tripdata = dd.read_parquet(hvfhv_dataset, storage_options=storage_options)\n",
    "\n",
    "    central_park_weather_observations[\"date\"] = central_park_weather_observations[\n",
    "        \"date\"\n",
    "    ].dt.date\n",
    "    fhvhv_tripdata[\"date\"] = fhvhv_tripdata[\"pickup_datetime\"].dt.date\n",
    "    fhvhv_tripdata[\"month\"] = fhvhv_tripdata[\"pickup_datetime\"].dt.month\n",
    "    fhvhv_tripdata[\"hour\"] = fhvhv_tripdata[\"pickup_datetime\"].dt.hour\n",
    "    fhvhv_tripdata[\"weekday\"] = fhvhv_tripdata[\"pickup_datetime\"].dt.dayofweek.isin(\n",
    "        [0, 1, 2, 3, 4]\n",
    "    )\n",
    "    monthly_trips_weather = fhvhv_tripdata.merge(\n",
    "        central_park_weather_observations, on=\"date\", how=\"inner\"\n",
    "    )\n",
    "    monthly_trips_weather[\"date_with_precipitation\"] = (\n",
    "        monthly_trips_weather[\"precipitation\"] > 0.1\n",
    "    )\n",
    "\n",
    "    def get_time_bucket(t):\n",
    "        bucket = \"other\"\n",
    "        if t in (8, 9, 10):\n",
    "            bucket = \"morning\"\n",
    "        elif t in (11, 12, 13, 14, 15):\n",
    "            bucket = \"midday\"\n",
    "        elif t in (16, 17, 18):\n",
    "            bucket = \"afternoon\"\n",
    "        elif t in (19, 20, 21):\n",
    "            bucket = \"evening\"\n",
    "        return bucket\n",
    "\n",
    "    monthly_trips_weather[\"time_bucket\"] = monthly_trips_weather.hour.map(\n",
    "        get_time_bucket, meta=(\"hour\", \"object\")\n",
    "    )\n",
    "    monthly_trips_weather = (\n",
    "        monthly_trips_weather.groupby(\n",
    "            [\n",
    "                \"PULocationID\",\n",
    "                \"DOLocationID\",\n",
    "                \"month\",\n",
    "                \"weekday\",\n",
    "                \"date_with_precipitation\",\n",
    "                \"time_bucket\",\n",
    "            ],\n",
    "        )\n",
    "        .agg({\"hvfhs_license_num\": \"count\", \"trip_miles\": \"mean\"})\n",
    "        .reset_index()\n",
    "    )\n",
    "    monthly_trips_weather = monthly_trips_weather.sort_values(\n",
    "        by=[\n",
    "            \"PULocationID\",\n",
    "            \"DOLocationID\",\n",
    "            \"month\",\n",
    "            \"weekday\",\n",
    "            \"date_with_precipitation\",\n",
    "            \"time_bucket\",\n",
    "        ],\n",
    "        ascending=True,\n",
    "    )\n",
    "    monthly_trips_weather = monthly_trips_weather.rename(\n",
    "        columns={\n",
    "            \"hvfhs_license_num\": \"trips\",\n",
    "            \"trip_miles\": \"avg_distance\",\n",
    "        },\n",
    "    )\n",
    "\n",
    "    monthly_trips_weather = monthly_trips_weather.to_parquet(\n",
    "        \"dask_monthly_trips_weather.pq\", compute=True\n",
    "    )\n",
    "\n",
    "    end = time.time()\n",
    "\n",
    "    return end - start\n",
    "\n",
    "\n",
    "def local_get_monthly_travels_weather(weather_dataset, hvfhv_dataset):\n",
    "    \"\"\"Run Dask on local cluster.\"\"\"\n",
    "    with Client():\n",
    "        total_time = get_monthly_travels_weather(weather_dataset, hvfhv_dataset)\n",
    "        print(\"Total time for IO and compute:\", total_time)"
   ]
  },
  {
   "cell_type": "code",
   "execution_count": null,
   "metadata": {},
   "outputs": [],
   "source": [
    "local_get_monthly_travels_weather(weather_path, hvfhv_5M_path)"
   ]
  },
  {
   "cell_type": "markdown",
   "metadata": {},
   "source": [
    "### Running on a Larger Dataset\n",
    "\n"
   ]
  },
  {
   "cell_type": "code",
   "execution_count": 7,
   "metadata": {},
   "outputs": [],
   "source": [
    "hvfhv_20M_path_s3 = \"nyc-taxi/fhvhv_tripdata/fhvhv_tripdata_2019-02.parquet\"\n",
    "hvfhv_20M_path = download_data_s3(hvfhv_20M_path_s3)"
   ]
  },
  {
   "cell_type": "code",
   "execution_count": null,
   "metadata": {},
   "outputs": [],
   "source": [
    "local_get_monthly_travels_weather(weather_path, hvfhv_20M_path)"
   ]
  }
 ],
 "metadata": {
  "kernelspec": {
   "display_name": "local-benchmark",
   "language": "python",
   "name": "python3"
  },
  "language_info": {
   "codemirror_mode": {
    "name": "ipython",
    "version": 3
   },
   "file_extension": ".py",
   "mimetype": "text/x-python",
   "name": "python",
   "nbconvert_exporter": "python",
   "pygments_lexer": "ipython3",
   "version": "3.12.8"
  }
 },
 "nbformat": 4,
 "nbformat_minor": 2
}
