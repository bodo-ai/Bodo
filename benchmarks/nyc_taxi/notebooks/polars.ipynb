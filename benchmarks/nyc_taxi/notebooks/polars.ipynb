{
 "cells": [
  {
   "cell_type": "code",
   "execution_count": 7,
   "metadata": {},
   "outputs": [],
   "source": [
    "import os\n",
    "import time\n",
    "\n",
    "import boto3\n",
    "import polars as pl\n",
    "from botocore import UNSIGNED\n",
    "from botocore.config import Config"
   ]
  },
  {
   "cell_type": "markdown",
   "metadata": {},
   "source": [
    "### Setup \n",
    "\n",
    "Download the datasets from the public S3 bucket."
   ]
  },
  {
   "cell_type": "code",
   "execution_count": 8,
   "metadata": {},
   "outputs": [],
   "source": [
    "central_park_weather_path_s3 = \"nyc-taxi/central_park_weather.csv\"\n",
    "bucket_name = \"bodo-example-data\"\n",
    "hvfhv_5M_path_s3 = \"nyc-taxi/fhvhv_5M_rows.pq\""
   ]
  },
  {
   "cell_type": "code",
   "execution_count": 9,
   "metadata": {},
   "outputs": [],
   "source": [
    "def download_data_s3(path_to_s3: str, local_data_dir: str = \"data\") -> str:\n",
    "    \"\"\"Download the dataset from S3 if already exists, skip download.\"\"\"\n",
    "    file_name = path_to_s3.split(\"/\", -1)[1]\n",
    "    local_path = os.path.join(local_data_dir, file_name)\n",
    "\n",
    "    if os.path.exists(local_path):\n",
    "        return local_path\n",
    "\n",
    "    print(\"Downloading dataset from S3...\")\n",
    "\n",
    "    s3 = boto3.client(\"s3\", config=Config(signature_version=UNSIGNED))\n",
    "\n",
    "    if not os.path.exists(local_data_dir):\n",
    "        os.mkdir(local_data_dir)\n",
    "\n",
    "    s3.download_file(bucket_name, path_to_s3, local_path)\n",
    "    return local_path"
   ]
  },
  {
   "cell_type": "code",
   "execution_count": 10,
   "metadata": {},
   "outputs": [],
   "source": [
    "weather_path = download_data_s3(central_park_weather_path_s3)\n",
    "hvfhv_5M_path = download_data_s3(hvfhv_5M_path_s3)"
   ]
  },
  {
   "cell_type": "code",
   "execution_count": 35,
   "metadata": {},
   "outputs": [],
   "source": [
    "def get_monthly_travels_weather(weather_dataset_path, hvfhv_dataset_path):\n",
    "    start = time.time()\n",
    "\n",
    "    # read data lazily\n",
    "    hvfhv_dataset = pl.scan_parquet(hvfhv_dataset_path)\n",
    "    weather_dataset = pl.scan_csv(weather_dataset_path, try_parse_dates=True)\n",
    "\n",
    "    weather_dataset = weather_dataset.select(\n",
    "        pl.col(\"DATE\").alias(\"date\"),\n",
    "        (pl.col(\"PRCP\") > 0.1).alias(\"date_with_precipitation\"),\n",
    "    )\n",
    "\n",
    "    hvfhv_dataset = hvfhv_dataset.with_columns(\n",
    "        pl.col(\"pickup_datetime\").dt.date().alias(\"date\"),\n",
    "        pl.col(\"pickup_datetime\").dt.month().alias(\"month\"),\n",
    "        pl.col(\"pickup_datetime\").dt.hour().alias(\"hour\"),\n",
    "        pl.col(\"pickup_datetime\").dt.weekday().is_in([1, 2, 3, 4, 5]).alias(\"weekday\"),\n",
    "    )\n",
    "\n",
    "    # merge with weather observations\n",
    "    monthly_trips_weather = hvfhv_dataset.join(weather_dataset, on=\"date\")\n",
    "\n",
    "    # place rides in bucket determined by hour of the day\n",
    "    def get_time_bucket(t):\n",
    "        bucket = \"other\"\n",
    "        if t in (8, 9, 10):\n",
    "            bucket = \"morning\"\n",
    "        elif t in (11, 12, 13, 14, 15):\n",
    "            bucket = \"midday\"\n",
    "        elif t in (16, 17, 18):\n",
    "            bucket = \"afternoon\"\n",
    "        elif t in (19, 20, 21):\n",
    "            bucket = \"evening\"\n",
    "        return bucket\n",
    "\n",
    "    monthly_trips_weather = monthly_trips_weather.with_columns(\n",
    "        pl.col(\"hour\")\n",
    "        .map_elements(get_time_bucket, return_dtype=pl.String)\n",
    "        .alias(\"time_bucket\")\n",
    "    )\n",
    "\n",
    "    # get total trips and average distance for all trips\n",
    "    monthly_trips_weather = monthly_trips_weather.group_by(\n",
    "        [\n",
    "            \"PULocationID\",\n",
    "            \"DOLocationID\",\n",
    "            \"month\",\n",
    "            \"weekday\",\n",
    "            \"date_with_precipitation\",\n",
    "            \"time_bucket\",\n",
    "        ]\n",
    "    ).agg(\n",
    "        pl.col(\"hvfhs_license_num\").count().alias(\"count\"),\n",
    "        pl.col(\"trip_miles\").mean().alias(\"avg_distance\"),\n",
    "    )\n",
    "\n",
    "    monthly_trips_weather = monthly_trips_weather.sort(\n",
    "        [\n",
    "            \"PULocationID\",\n",
    "            \"DOLocationID\",\n",
    "            \"month\",\n",
    "            \"weekday\",\n",
    "            \"date_with_precipitation\",\n",
    "            \"time_bucket\",\n",
    "        ]\n",
    "    )\n",
    "\n",
    "    monthly_trips_weather.sink_parquet(\"polars_monthly_trips_weather.pq\")\n",
    "\n",
    "    end = time.time()\n",
    "    print(\"Monthly Taxi Travel Times Computation Time: \", end - start)\n",
    "\n",
    "    return monthly_trips_weather"
   ]
  },
  {
   "cell_type": "code",
   "execution_count": null,
   "metadata": {},
   "outputs": [],
   "source": [
    "get_monthly_travels_weather(weather_path, hvfhv_5M_path)"
   ]
  },
  {
   "cell_type": "markdown",
   "metadata": {},
   "source": [
    "### Running on a Larger Dataset\n"
   ]
  },
  {
   "cell_type": "code",
   "execution_count": 19,
   "metadata": {},
   "outputs": [],
   "source": [
    "hvfhv_20M_path_s3 = \"nyc-taxi/fhvhv_tripdata/fhvhv_tripdata_2019-02.parquet\"\n",
    "hvfhv_20M_path = download_data_s3(hvfhv_20M_path_s3)"
   ]
  },
  {
   "cell_type": "code",
   "execution_count": 31,
   "metadata": {},
   "outputs": [],
   "source": [
    "hvfhv_20M_path_s3 = \"nyc-taxi/fhvhv_tripdata_rewrite/fhvhv_tripdata_2019-02.parquet\""
   ]
  },
  {
   "cell_type": "code",
   "execution_count": 32,
   "metadata": {},
   "outputs": [
    {
     "name": "stdout",
     "output_type": "stream",
     "text": [
      "Monthly Taxi Travel Times Computation Time:  4.458498239517212\n"
     ]
    },
    {
     "data": {
      "text/html": [
       "<div><style>\n",
       ".dataframe > thead > tr,\n",
       ".dataframe > tbody > tr {\n",
       "  text-align: right;\n",
       "  white-space: pre-wrap;\n",
       "}\n",
       "</style>\n",
       "<small>shape: (640_990, 8)</small><table border=\"1\" class=\"dataframe\"><thead><tr><th>PULocationID</th><th>DOLocationID</th><th>month</th><th>weekday</th><th>date_with_precipitation</th><th>time_bucket</th><th>count</th><th>avg_distance</th></tr><tr><td>i64</td><td>i64</td><td>i8</td><td>bool</td><td>bool</td><td>str</td><td>u32</td><td>f64</td></tr></thead><tbody><tr><td>1</td><td>1</td><td>2</td><td>false</td><td>false</td><td>&quot;midday&quot;</td><td>1</td><td>19.68</td></tr><tr><td>1</td><td>1</td><td>2</td><td>false</td><td>false</td><td>&quot;other&quot;</td><td>1</td><td>0.21</td></tr><tr><td>1</td><td>1</td><td>2</td><td>true</td><td>false</td><td>&quot;afternoon&quot;</td><td>2</td><td>4.955</td></tr><tr><td>1</td><td>1</td><td>2</td><td>true</td><td>false</td><td>&quot;evening&quot;</td><td>1</td><td>25.25</td></tr><tr><td>1</td><td>1</td><td>2</td><td>true</td><td>false</td><td>&quot;midday&quot;</td><td>1</td><td>18.87</td></tr><tr><td>&hellip;</td><td>&hellip;</td><td>&hellip;</td><td>&hellip;</td><td>&hellip;</td><td>&hellip;</td><td>&hellip;</td><td>&hellip;</td></tr><tr><td>265</td><td>265</td><td>2</td><td>true</td><td>true</td><td>&quot;afternoon&quot;</td><td>17</td><td>5.488824</td></tr><tr><td>265</td><td>265</td><td>2</td><td>true</td><td>true</td><td>&quot;evening&quot;</td><td>14</td><td>4.835714</td></tr><tr><td>265</td><td>265</td><td>2</td><td>true</td><td>true</td><td>&quot;midday&quot;</td><td>20</td><td>5.571</td></tr><tr><td>265</td><td>265</td><td>2</td><td>true</td><td>true</td><td>&quot;morning&quot;</td><td>7</td><td>1.488571</td></tr><tr><td>265</td><td>265</td><td>2</td><td>true</td><td>true</td><td>&quot;other&quot;</td><td>22</td><td>5.239091</td></tr></tbody></table></div>"
      ],
      "text/plain": [
       "shape: (640_990, 8)\n",
       "┌──────────────┬──────────────┬───────┬─────────┬──────────────┬─────────────┬───────┬─────────────┐\n",
       "│ PULocationID ┆ DOLocationID ┆ month ┆ weekday ┆ date_with_pr ┆ time_bucket ┆ count ┆ avg_distanc │\n",
       "│ ---          ┆ ---          ┆ ---   ┆ ---     ┆ ecipitation  ┆ ---         ┆ ---   ┆ e           │\n",
       "│ i64          ┆ i64          ┆ i8    ┆ bool    ┆ ---          ┆ str         ┆ u32   ┆ ---         │\n",
       "│              ┆              ┆       ┆         ┆ bool         ┆             ┆       ┆ f64         │\n",
       "╞══════════════╪══════════════╪═══════╪═════════╪══════════════╪═════════════╪═══════╪═════════════╡\n",
       "│ 1            ┆ 1            ┆ 2     ┆ false   ┆ false        ┆ midday      ┆ 1     ┆ 19.68       │\n",
       "│ 1            ┆ 1            ┆ 2     ┆ false   ┆ false        ┆ other       ┆ 1     ┆ 0.21        │\n",
       "│ 1            ┆ 1            ┆ 2     ┆ true    ┆ false        ┆ afternoon   ┆ 2     ┆ 4.955       │\n",
       "│ 1            ┆ 1            ┆ 2     ┆ true    ┆ false        ┆ evening     ┆ 1     ┆ 25.25       │\n",
       "│ 1            ┆ 1            ┆ 2     ┆ true    ┆ false        ┆ midday      ┆ 1     ┆ 18.87       │\n",
       "│ …            ┆ …            ┆ …     ┆ …       ┆ …            ┆ …           ┆ …     ┆ …           │\n",
       "│ 265          ┆ 265          ┆ 2     ┆ true    ┆ true         ┆ afternoon   ┆ 17    ┆ 5.488824    │\n",
       "│ 265          ┆ 265          ┆ 2     ┆ true    ┆ true         ┆ evening     ┆ 14    ┆ 4.835714    │\n",
       "│ 265          ┆ 265          ┆ 2     ┆ true    ┆ true         ┆ midday      ┆ 20    ┆ 5.571       │\n",
       "│ 265          ┆ 265          ┆ 2     ┆ true    ┆ true         ┆ morning     ┆ 7     ┆ 1.488571    │\n",
       "│ 265          ┆ 265          ┆ 2     ┆ true    ┆ true         ┆ other       ┆ 22    ┆ 5.239091    │\n",
       "└──────────────┴──────────────┴───────┴─────────┴──────────────┴─────────────┴───────┴─────────────┘"
      ]
     },
     "execution_count": 32,
     "metadata": {},
     "output_type": "execute_result"
    }
   ],
   "source": [
    "get_monthly_travels_weather(weather_path, hvfhv_20M_path)"
   ]
  }
 ],
 "metadata": {
  "kernelspec": {
   "display_name": "test_polars",
   "language": "python",
   "name": "python3"
  },
  "language_info": {
   "codemirror_mode": {
    "name": "ipython",
    "version": 3
   },
   "file_extension": ".py",
   "mimetype": "text/x-python",
   "name": "python",
   "nbconvert_exporter": "python",
   "pygments_lexer": "ipython3",
   "version": "3.12.9"
  }
 },
 "nbformat": 4,
 "nbformat_minor": 2
}
