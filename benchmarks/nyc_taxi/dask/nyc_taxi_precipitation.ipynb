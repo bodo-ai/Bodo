{
 "cells": [
  {
   "cell_type": "markdown",
   "metadata": {},
   "source": [
    "### Instructions \n",
    "\n",
    "Before running this notebook, create a local environment that matches the environemnt on the cloud. Dask Cloud Provider also let's you specify a custom docker image to run on your cluster ([see Dask Cloud Provider's documentation](https://cloudprovider.dask.org/en/latest/aws.html#elastic-compute-cloud-ec2) for more details). This benchmark was run using [Dask 2024.9.1](https://hub.docker.com/r/daskdev/dask/tags).\n",
    "\n",
    "You can use the provided `env.yml` to create your environment locally.\n",
    "\n",
    "``` shell\n",
    "cd benchmarks/dask\n",
    "conda env create -f env.yml\n",
    "```\n",
    "This will create the conda environment `benchmark_dask`, attach it to this notebook."
   ]
  },
  {
   "cell_type": "code",
   "execution_count": 1,
   "metadata": {},
   "outputs": [],
   "source": [
    "import time\n",
    "\n",
    "import dask.dataframe as dd\n",
    "from dask.distributed import Client\n",
    "from dask_cloudprovider.aws import EC2Cluster"
   ]
  },
  {
   "cell_type": "code",
   "execution_count": 2,
   "metadata": {},
   "outputs": [],
   "source": [
    "env_vars = {\"EXTRA_CONDA_PACKAGES\": \"s3fs==2024.10.0\"}\n",
    "cluster = EC2Cluster(\n",
    "    # NOTE: Setting security = False to avoid large config size\n",
    "    # https://github.com/dask/dask-cloudprovider/issues/249\n",
    "    security=False,\n",
    "    n_workers=4,\n",
    "    scheduler_instance_type=\"c6i.xlarge\",\n",
    "    worker_instance_type=\"r6i.16xlarge\",\n",
    "    docker_image=\"daskdev/dask:2024.9.1-py3.10\",\n",
    "    # Profile with AmazonS3FullAccess\n",
    "    iam_instance_profile={\"Name\": \"dask-benchmark\"},\n",
    "    # Region for accessing bodo-example-data\n",
    "    region=\"us-east-2\",\n",
    "    env_vars=env_vars,\n",
    "    debug=True,\n",
    ")"
   ]
  },
  {
   "cell_type": "code",
   "execution_count": null,
   "metadata": {},
   "outputs": [],
   "source": [
    "client = Client(cluster)\n",
    "print(client.dashboard_link)"
   ]
  },
  {
   "cell_type": "code",
   "execution_count": 33,
   "metadata": {},
   "outputs": [],
   "source": [
    "# first parquet file\n",
    "dataset = [\n",
    "    f\"s3://bodo-example-data/nyc-taxi/fhvhv_tripdata/fhvhv_tripdata_2019-{i:02}.parquet\"\n",
    "    for i in range(2, 8)\n",
    "]"
   ]
  },
  {
   "cell_type": "code",
   "execution_count": 34,
   "metadata": {},
   "outputs": [],
   "source": [
    "# run on entire dataset\n",
    "dataset = \"s3://bodo-example-data/nyc-taxi/fhvhv_tripdata/\""
   ]
  },
  {
   "cell_type": "code",
   "execution_count": 17,
   "metadata": {},
   "outputs": [
    {
     "name": "stdout",
     "output_type": "stream",
     "text": [
      "  hvfhs_license_num dispatching_base_num originating_base_num  \\\n",
      "0            HV0003               B02867               B02867   \n",
      "1            HV0003               B02879               B02879   \n",
      "2            HV0005               B02510                 <NA>   \n",
      "3            HV0005               B02510                 <NA>   \n",
      "4            HV0005               B02510                 <NA>   \n",
      "\n",
      "     request_datetime   on_scene_datetime     pickup_datetime  \\\n",
      "0 2019-02-01 00:01:26 2019-02-01 00:02:55 2019-02-01 00:05:18   \n",
      "1 2019-02-01 00:26:08 2019-02-01 00:41:29 2019-02-01 00:41:29   \n",
      "2 2019-02-01 00:48:58                 NaT 2019-02-01 00:51:34   \n",
      "3 2019-02-01 00:02:15                 NaT 2019-02-01 00:03:51   \n",
      "4 2019-02-01 00:06:17                 NaT 2019-02-01 00:09:44   \n",
      "\n",
      "     dropoff_datetime  PULocationID  DOLocationID  trip_miles  ...  sales_tax  \\\n",
      "0 2019-02-01 00:14:57           245           251        2.45  ...       0.83   \n",
      "1 2019-02-01 00:49:39           216           197        1.71  ...       0.70   \n",
      "2 2019-02-01 01:28:29           261           234        5.01  ...       3.99   \n",
      "3 2019-02-01 00:07:16            87            87        0.34  ...       0.64   \n",
      "4 2019-02-01 00:39:56            87           198        6.84  ...       2.16   \n",
      "\n",
      "   congestion_surcharge  airport_fee  tips  driver_pay  shared_request_flag  \\\n",
      "0                   0.0         None   0.0        7.48                    Y   \n",
      "1                   0.0         None   2.0        7.93                    N   \n",
      "2                   0.0         None   0.0       35.97                    N   \n",
      "3                   0.0         None   3.0        5.39                    N   \n",
      "4                   0.0         None   4.0       17.07                    N   \n",
      "\n",
      "  shared_match_flag  access_a_ride_flag  wav_request_flag wav_match_flag  \n",
      "0                 N                   N                 N           None  \n",
      "1                 N                   N                 N           None  \n",
      "2                 Y                   N                 N           None  \n",
      "3                 Y                   N                 N           None  \n",
      "4                 Y                   N                 N           None  \n",
      "\n",
      "[5 rows x 24 columns]\n"
     ]
    }
   ],
   "source": [
    "def read_pq():\n",
    "    fhvhv_tripdata = dd.read_parquet(dataset)\n",
    "\n",
    "    fhvhv_tripdata.to_parquet(\"s3://test-dask/fhvhv_tripdata.pq\", compute=True)\n",
    "\n",
    "    return fhvhv_tripdata.head(5)\n",
    "\n",
    "\n",
    "future = client.submit(read_pq)\n",
    "print(future.result())"
   ]
  },
  {
   "cell_type": "code",
   "execution_count": 35,
   "metadata": {},
   "outputs": [],
   "source": [
    "def get_monthly_travels_weather():\n",
    "    start = time.time()\n",
    "    central_park_weather_observations = dd.read_csv(\n",
    "        \"s3://bodo-example-data/nyc-taxi/central_park_weather.csv\",\n",
    "        parse_dates=[\"DATE\"],\n",
    "        storage_options={\"anon\": True},\n",
    "    )\n",
    "    central_park_weather_observations = central_park_weather_observations.rename(\n",
    "        columns={\"DATE\": \"date\", \"PRCP\": \"precipitation\"}\n",
    "    )\n",
    "\n",
    "    fhvhv_tripdata = dd.read_parquet(dataset, storage_options={\"anon\": True})\n",
    "\n",
    "    central_park_weather_observations[\"date\"] = central_park_weather_observations[\n",
    "        \"date\"\n",
    "    ].dt.date\n",
    "    fhvhv_tripdata[\"date\"] = fhvhv_tripdata[\"pickup_datetime\"].dt.date\n",
    "    fhvhv_tripdata[\"month\"] = fhvhv_tripdata[\"pickup_datetime\"].dt.month\n",
    "    fhvhv_tripdata[\"hour\"] = fhvhv_tripdata[\"pickup_datetime\"].dt.hour\n",
    "    fhvhv_tripdata[\"weekday\"] = fhvhv_tripdata[\"pickup_datetime\"].dt.dayofweek.isin(\n",
    "        [0, 1, 2, 3, 4]\n",
    "    )\n",
    "    monthly_trips_weather = fhvhv_tripdata.merge(\n",
    "        central_park_weather_observations, on=\"date\", how=\"inner\"\n",
    "    )\n",
    "    monthly_trips_weather[\"date_with_precipitation\"] = (\n",
    "        monthly_trips_weather[\"precipitation\"] > 0.1\n",
    "    )\n",
    "\n",
    "    def get_time_bucket(t):\n",
    "        bucket = \"other\"\n",
    "        if t in (8, 9, 10):\n",
    "            bucket = \"morning\"\n",
    "        elif t in (11, 12, 13, 14, 15):\n",
    "            bucket = \"midday\"\n",
    "        elif t in (16, 17, 18):\n",
    "            bucket = \"afternoon\"\n",
    "        elif t in (19, 20, 21):\n",
    "            bucket = \"evening\"\n",
    "        return bucket\n",
    "\n",
    "    monthly_trips_weather[\"time_bucket\"] = monthly_trips_weather.hour.map(\n",
    "        get_time_bucket, meta=(\"hour\", \"object\")\n",
    "    )\n",
    "    monthly_trips_weather = (\n",
    "        monthly_trips_weather.groupby(\n",
    "            [\n",
    "                \"PULocationID\",\n",
    "                \"DOLocationID\",\n",
    "                \"month\",\n",
    "                \"weekday\",\n",
    "                \"date_with_precipitation\",\n",
    "                \"time_bucket\",\n",
    "            ],\n",
    "        )\n",
    "        .agg({\"hvfhs_license_num\": \"count\", \"trip_miles\": \"mean\"})\n",
    "        .reset_index()\n",
    "    )\n",
    "    monthly_trips_weather = monthly_trips_weather.sort_values(\n",
    "        by=[\n",
    "            \"PULocationID\",\n",
    "            \"DOLocationID\",\n",
    "            \"month\",\n",
    "            \"weekday\",\n",
    "            \"date_with_precipitation\",\n",
    "            \"time_bucket\",\n",
    "        ],\n",
    "        ascending=True,\n",
    "    )\n",
    "    monthly_trips_weather = monthly_trips_weather.rename(\n",
    "        columns={\n",
    "            \"hvfhs_license_num\": \"trips\",\n",
    "            \"trip_miles\": \"avg_distance\",\n",
    "        },\n",
    "    )\n",
    "\n",
    "    monthly_trips_weather.to_parquet(\"s3://dask-results/result.pq\", compute=True)\n",
    "\n",
    "    end = time.time()\n",
    "\n",
    "    return end - start"
   ]
  },
  {
   "cell_type": "code",
   "execution_count": 37,
   "metadata": {},
   "outputs": [
    {
     "name": "stdout",
     "output_type": "stream",
     "text": [
      "Total time for IO and compute: 900.1462795734406\n"
     ]
    }
   ],
   "source": [
    "for _ in range(1):\n",
    "    future = client.submit(get_monthly_travels_weather)\n",
    "    total_time = future.result()\n",
    "    client.restart()\n",
    "    print(\"Total time for IO and compute:\", total_time)"
   ]
  },
  {
   "cell_type": "code",
   "execution_count": 38,
   "metadata": {},
   "outputs": [
    {
     "name": "stdout",
     "output_type": "stream",
     "text": [
      "Terminated dask-64a5368e-worker-f84e5b15 (i-00c6467b960e4d53b)\n",
      "Terminated dask-64a5368e-worker-226adae8 (i-0d8c2a80a2824f229)\n",
      "Terminated dask-64a5368e-worker-ec933d21 (i-0e3ea90c1689e930d)\n",
      "Terminated dask-64a5368e-worker-5f8cb338 (i-0027a7a478ec1e6de)\n",
      "Terminated dask-64a5368e-scheduler (i-045352febc6cc424a)\n"
     ]
    }
   ],
   "source": [
    "client.close()\n",
    "cluster.close()"
   ]
  }
 ],
 "metadata": {
  "kernelspec": {
   "display_name": "Python 3",
   "language": "python",
   "name": "python3"
  },
  "language_info": {
   "codemirror_mode": {
    "name": "ipython",
    "version": 3
   },
   "file_extension": ".py",
   "mimetype": "text/x-python",
   "name": "python",
   "nbconvert_exporter": "python",
   "pygments_lexer": "ipython3",
   "version": "3.10.15"
  }
 },
 "nbformat": 4,
 "nbformat_minor": 2
}
