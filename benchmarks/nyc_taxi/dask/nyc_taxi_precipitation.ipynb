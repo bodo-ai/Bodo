{
 "cells": [
  {
   "cell_type": "markdown",
   "metadata": {},
   "source": [
    "### Instructions \n",
    "\n",
    "Before running this notebook, create a local environment that matches the environemnt on the cloud. Dask Cloud Provider also let's you specify a custom docker image to run on your cluster ([see Dask Cloud Provider's documentation](https://cloudprovider.dask.org/en/latest/aws.html#elastic-compute-cloud-ec2) for more details). This benchmark was run using [Dask 2024.9.1](https://hub.docker.com/r/daskdev/dask/tags).\n",
    "\n",
    "You can use the provided `env.yml` to create your environment locally.\n",
    "\n",
    "``` shell\n",
    "cd benchmarks/dask\n",
    "conda env create -f env.yml\n",
    "```\n",
    "This will create the conda environment `benchmark_dask`, attach it to this notebook."
   ]
  },
  {
   "cell_type": "code",
   "execution_count": 1,
   "metadata": {},
   "outputs": [],
   "source": [
    "import time\n",
    "\n",
    "import dask.dataframe as dd\n",
    "from dask.distributed import Client\n",
    "from dask_cloudprovider.aws import EC2Cluster"
   ]
  },
  {
   "cell_type": "code",
   "execution_count": null,
   "metadata": {},
   "outputs": [],
   "source": [
    "env_vars = {\"EXTRA_CONDA_PACKAGES\": \"s3fs==2024.10.0\"}\n",
    "cluster = EC2Cluster(\n",
    "    # NOTE: Setting security = False to avoid large config size\n",
    "    # https://github.com/dask/dask-cloudprovider/issues/249\n",
    "    security=False,\n",
    "    n_workers=4,\n",
    "    scheduler_instance_type=\"c6i.xlarge\",\n",
    "    worker_instance_type=\"r6i.16xlarge\",\n",
    "    docker_image=\"daskdev/dask:2024.9.1-py3.10\",\n",
    "    # Profile with AmazonS3FullAccess\n",
    "    iam_instance_profile={\"Name\": \"dask-benchmark\"},\n",
    "    # Region for accessing bodo-example-data\n",
    "    region=\"us-east-2\",\n",
    "    env_vars=env_vars,\n",
    "    debug=True,\n",
    ")"
   ]
  },
  {
   "cell_type": "code",
   "execution_count": null,
   "metadata": {},
   "outputs": [],
   "source": [
    "client = Client(cluster)\n",
    "print(client.dashboard_link)"
   ]
  },
  {
   "cell_type": "code",
   "execution_count": 4,
   "metadata": {},
   "outputs": [],
   "source": [
    "# first parquet file\n",
    "dataset = [\n",
    "    f\"s3://bodo-example-data/nyc-taxi/fhvhv_tripdata/fhvhv_tripdata_2019-{i:02}.parquet\"\n",
    "    for i in range(2, 8)\n",
    "]"
   ]
  },
  {
   "cell_type": "code",
   "execution_count": 8,
   "metadata": {},
   "outputs": [],
   "source": [
    "# run on entire dataset\n",
    "dataset = \"s3://bodo-example-data/nyc-taxi/fhvhv_tripdata/\""
   ]
  },
  {
   "cell_type": "code",
   "execution_count": 9,
   "metadata": {},
   "outputs": [],
   "source": [
    "def get_monthly_travels_weather():\n",
    "    start = time.time()\n",
    "    central_park_weather_observations = dd.read_csv(\n",
    "        \"s3://bodo-example-data/nyc-taxi/central_park_weather.csv\",\n",
    "        parse_dates=[\"DATE\"],\n",
    "        storage_options={\"anon\": True},\n",
    "    )\n",
    "    central_park_weather_observations = central_park_weather_observations.rename(\n",
    "        columns={\"DATE\": \"date\", \"PRCP\": \"precipitation\"}\n",
    "    )\n",
    "\n",
    "    fhvhv_tripdata = dd.read_parquet(dataset, storage_options={\"anon\": True})\n",
    "\n",
    "    central_park_weather_observations[\"date\"] = central_park_weather_observations[\n",
    "        \"date\"\n",
    "    ].dt.date\n",
    "    fhvhv_tripdata[\"date\"] = fhvhv_tripdata[\"pickup_datetime\"].dt.date\n",
    "    fhvhv_tripdata[\"month\"] = fhvhv_tripdata[\"pickup_datetime\"].dt.month\n",
    "    fhvhv_tripdata[\"hour\"] = fhvhv_tripdata[\"pickup_datetime\"].dt.hour\n",
    "    fhvhv_tripdata[\"weekday\"] = fhvhv_tripdata[\"pickup_datetime\"].dt.dayofweek.isin(\n",
    "        [0, 1, 2, 3, 4]\n",
    "    )\n",
    "    monthly_trips_weather = fhvhv_tripdata.merge(\n",
    "        central_park_weather_observations, on=\"date\", how=\"inner\"\n",
    "    )\n",
    "    monthly_trips_weather[\"date_with_precipitation\"] = (\n",
    "        monthly_trips_weather[\"precipitation\"] > 0.1\n",
    "    )\n",
    "\n",
    "    def get_time_bucket(t):\n",
    "        bucket = \"other\"\n",
    "        if t in (8, 9, 10):\n",
    "            bucket = \"morning\"\n",
    "        elif t in (11, 12, 13, 14, 15):\n",
    "            bucket = \"midday\"\n",
    "        elif t in (16, 17, 18):\n",
    "            bucket = \"afternoon\"\n",
    "        elif t in (19, 20, 21):\n",
    "            bucket = \"evening\"\n",
    "        return bucket\n",
    "\n",
    "    monthly_trips_weather[\"time_bucket\"] = monthly_trips_weather.hour.map(\n",
    "        get_time_bucket, meta=(\"hour\", \"object\")\n",
    "    )\n",
    "    monthly_trips_weather = (\n",
    "        monthly_trips_weather.groupby(\n",
    "            [\n",
    "                \"PULocationID\",\n",
    "                \"DOLocationID\",\n",
    "                \"month\",\n",
    "                \"weekday\",\n",
    "                \"date_with_precipitation\",\n",
    "                \"time_bucket\",\n",
    "            ],\n",
    "        )\n",
    "        .agg({\"hvfhs_license_num\": \"count\", \"trip_miles\": \"mean\"})\n",
    "        .reset_index()\n",
    "    )\n",
    "    monthly_trips_weather = monthly_trips_weather.sort_values(\n",
    "        by=[\n",
    "            \"PULocationID\",\n",
    "            \"DOLocationID\",\n",
    "            \"month\",\n",
    "            \"weekday\",\n",
    "            \"date_with_precipitation\",\n",
    "            \"time_bucket\",\n",
    "        ],\n",
    "        ascending=True,\n",
    "    )\n",
    "    monthly_trips_weather = monthly_trips_weather.rename(\n",
    "        columns={\n",
    "            \"hvfhs_license_num\": \"trips\",\n",
    "            \"trip_miles\": \"avg_distance\",\n",
    "        },\n",
    "    )\n",
    "\n",
    "    monthly_trips_weather.to_parquet(\"s3://dask-results/result.pq\", compute=True)\n",
    "\n",
    "    end = time.time()\n",
    "\n",
    "    return end - start"
   ]
  },
  {
   "cell_type": "code",
   "execution_count": null,
   "metadata": {},
   "outputs": [],
   "source": [
    "for _ in range(3):\n",
    "    future = client.submit(get_monthly_travels_weather)\n",
    "    total_time = future.result()\n",
    "    client.restart()\n",
    "    print(\"Total time for IO and compute:\", total_time)"
   ]
  },
  {
   "cell_type": "code",
   "execution_count": null,
   "metadata": {},
   "outputs": [],
   "source": [
    "client.close()\n",
    "cluster.close()"
   ]
  }
 ],
 "metadata": {
  "kernelspec": {
   "display_name": "Python 3",
   "language": "python",
   "name": "python3"
  },
  "language_info": {
   "codemirror_mode": {
    "name": "ipython",
    "version": 3
   },
   "file_extension": ".py",
   "mimetype": "text/x-python",
   "name": "python",
   "nbconvert_exporter": "python",
   "pygments_lexer": "ipython3",
   "version": "3.10.15"
  }
 },
 "nbformat": 4,
 "nbformat_minor": 2
}
