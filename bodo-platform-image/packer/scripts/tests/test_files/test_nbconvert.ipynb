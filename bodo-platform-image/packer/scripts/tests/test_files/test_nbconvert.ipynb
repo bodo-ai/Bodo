{
 "cells": [
  {
   "cell_type": "code",
   "execution_count": 1,
   "id": "0c00287c-bca6-4746-bb6f-382d2bb68a42",
   "metadata": {
    "execution": {
     "iopub.execute_input": "2022-08-17T17:55:22.144449Z",
     "iopub.status.busy": "2022-08-17T17:55:22.144099Z",
     "iopub.status.idle": "2022-08-17T17:55:31.291292Z",
     "shell.execute_reply": "2022-08-17T17:55:31.290701Z",
     "shell.execute_reply.started": "2022-08-17T17:55:22.144418Z"
    },
    "tags": []
   },
   "outputs": [
    {
     "name": "stdout",
     "output_type": "stream",
     "text": [
      "Starting 4 engines with <class 'ipyparallel.cluster.launcher.MPIEngineSetLauncher'>\n"
     ]
    },
    {
     "data": {
      "application/vnd.jupyter.widget-view+json": {
       "model_id": "084610bb0d054e8ea9922e05ae737799",
       "version_major": 2,
       "version_minor": 0
      },
      "text/plain": [
       "  0%|          | 0/4 [00:00<?, ?engine/s]"
      ]
     },
     "metadata": {},
     "output_type": "display_data"
    },
    {
     "name": "stdout",
     "output_type": "stream",
     "text": [
      "%autopx enabled\n"
     ]
    }
   ],
   "source": [
    "%autopx"
   ]
  },
  {
   "cell_type": "code",
   "execution_count": 2,
   "id": "2d0a9f3b-680a-4671-b0d6-b750515b8fa3",
   "metadata": {
    "execution": {
     "iopub.execute_input": "2022-08-17T17:55:31.292268Z",
     "iopub.status.busy": "2022-08-17T17:55:31.292012Z",
     "iopub.status.idle": "2022-08-17T17:55:32.248655Z",
     "shell.execute_reply": "2022-08-17T17:55:32.248189Z",
     "shell.execute_reply.started": "2022-08-17T17:55:31.292246Z"
    },
    "tags": []
   },
   "outputs": [],
   "source": [
    "import json\n",
    "import os\n",
    "import pandas as pd\n",
    "import numpy as np\n",
    "import bodo\n",
    "import time"
   ]
  },
  {
   "cell_type": "code",
   "execution_count": null,
   "id": "828a88a8-418e-4170-b3e4-c5427fc6f5f3",
   "metadata": {
    "execution": {
     "iopub.execute_input": "2022-08-17T17:55:33.994970Z",
     "iopub.status.busy": "2022-08-17T17:55:33.994582Z"
    },
    "tags": []
   },
   "outputs": [
    {
     "data": {
      "application/vnd.jupyter.widget-view+json": {
       "model_id": "de3dd5aca65e43249167aa39003f9da7",
       "version_major": 2,
       "version_minor": 0
      },
      "text/plain": [
       "%px:   0%|          | 0/4 [00:00<?, ?tasks/s]"
      ]
     },
     "metadata": {},
     "output_type": "display_data"
    }
   ],
   "source": [
    "@bodo.jit(cache=True)\n",
    "def load_lineitem(data_folder):\n",
    "    t1 = time.time()\n",
    "    rel = pd.read_parquet(data_folder)\n",
    "    print(\"Lineitem Reading time: \", ((time.time() - t1) * 1000), \" (ms)\")\n",
    "    return rel\n",
    "\n",
    "lineitem = load_lineitem(\"s3://bodo-example-data/tpch/SF1/lineitem.pq/\")\n",
    "if bodo.get_rank()==0:\n",
    "    print(lineitem.head())"
   ]
  }
 ],
 "metadata": {
  "kernelspec": {
   "display_name": "SSH 10.30.1.118 Remote-Kernel",
   "language": "",
   "name": "rik_ssh_10_30_1_118_remotekernel"
  },
  "language_info": {
   "codemirror_mode": {
    "name": "ipython",
    "version": 3
   },
   "file_extension": ".py",
   "mimetype": "text/x-python",
   "name": "python",
   "nbconvert_exporter": "python",
   "pygments_lexer": "ipython3",
   "version": "3.9.12"
  }
 },
 "nbformat": 4,
 "nbformat_minor": 5
}
